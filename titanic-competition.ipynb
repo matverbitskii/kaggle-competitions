{
 "cells": [
  {
   "cell_type": "markdown",
   "id": "c530761f",
   "metadata": {
    "id": "440886ad",
    "papermill": {
     "duration": 0.017471,
     "end_time": "2025-02-20T11:19:15.176874",
     "exception": false,
     "start_time": "2025-02-20T11:19:15.159403",
     "status": "completed"
    },
    "tags": []
   },
   "source": [
    "# Titanic competition\n",
    "\n",
    "## Introduction\n",
    "\n",
    "### General description\n",
    "\n",
    "The sinking of the Titanic is one of the most infamous shipwrecks in history.\n",
    "\n",
    "On April 15, 1912, during her maiden voyage, the widely considered “unsinkable” RMS Titanic sank after colliding with an iceberg. Unfortunately, there weren’t enough lifeboats for everyone onboard, resulting in the death of 1502 out of 2224 passengers and crew.\n",
    "\n",
    "While there was some element of luck involved in surviving, it seems some groups of people were more likely to survive than others.\n",
    "\n",
    "In this challenge, we ask you to build a predictive model that answers the question: “what sorts of people were more likely to survive?” using passenger data (ie name, age, gender, socio-economic class, etc).\n",
    "\n",
    "### Content\n",
    "1. Basic data pre-processing\n",
    "2. EDA, SDA\n",
    "3. Using classic and gradient boosting models for prediction passengers' survival\n",
    "4. Methods comparement and general conclusion"
   ]
  },
  {
   "cell_type": "markdown",
   "id": "a15d52b9",
   "metadata": {
    "id": "0fce7017",
    "papermill": {
     "duration": 0.019188,
     "end_time": "2025-02-20T11:19:15.212424",
     "exception": false,
     "start_time": "2025-02-20T11:19:15.193236",
     "status": "completed"
    },
    "tags": []
   },
   "source": [
    "### Import dependencies"
   ]
  },
  {
   "cell_type": "code",
   "execution_count": 1,
   "id": "6d79c2c8",
   "metadata": {
    "execution": {
     "iopub.execute_input": "2025-02-20T11:19:15.248414Z",
     "iopub.status.busy": "2025-02-20T11:19:15.247891Z",
     "iopub.status.idle": "2025-02-20T11:19:25.767445Z",
     "shell.execute_reply": "2025-02-20T11:19:25.765844Z"
    },
    "id": "dfdeb59b",
    "outputId": "04453988-c67a-4e06-ba93-36f9cc6fa8be",
    "papermill": {
     "duration": 10.539915,
     "end_time": "2025-02-20T11:19:25.769617",
     "exception": false,
     "start_time": "2025-02-20T11:19:15.229702",
     "status": "completed"
    },
    "tags": []
   },
   "outputs": [],
   "source": [
    "!pip install phik -q\n",
    "!pip install catboost -q"
   ]
  },
  {
   "cell_type": "code",
   "execution_count": 2,
   "id": "0f9ae355",
   "metadata": {
    "execution": {
     "iopub.execute_input": "2025-02-20T11:19:25.803549Z",
     "iopub.status.busy": "2025-02-20T11:19:25.803115Z",
     "iopub.status.idle": "2025-02-20T11:19:30.113735Z",
     "shell.execute_reply": "2025-02-20T11:19:30.112616Z"
    },
    "id": "a9c4c89b",
    "papermill": {
     "duration": 4.329949,
     "end_time": "2025-02-20T11:19:30.115860",
     "exception": false,
     "start_time": "2025-02-20T11:19:25.785911",
     "status": "completed"
    },
    "tags": []
   },
   "outputs": [],
   "source": [
    "import numpy as np\n",
    "import pandas as pd\n",
    "import seaborn as sns\n",
    "import matplotlib.pyplot as plt\n",
    "\n",
    "\n",
    "from sklearn.model_selection import (\n",
    "    train_test_split,\n",
    "    RandomizedSearchCV\n",
    ")\n",
    "from sklearn.preprocessing import (\n",
    "    OneHotEncoder,\n",
    "    OrdinalEncoder,\n",
    "    StandardScaler,\n",
    "    MinMaxScaler\n",
    ")\n",
    "from sklearn.impute import SimpleImputer\n",
    "from sklearn.linear_model import LogisticRegression\n",
    "from sklearn.neighbors import KNeighborsClassifier\n",
    "from sklearn.tree import DecisionTreeClassifier\n",
    "from sklearn.svm import SVC\n",
    "from sklearn.pipeline import Pipeline\n",
    "from sklearn.compose import ColumnTransformer\n",
    "from sklearn.metrics import (\n",
    "    roc_auc_score,\n",
    "    accuracy_score\n",
    ")\n",
    "from catboost import CatBoostClassifier\n",
    "\n",
    "from phik import phik_matrix"
   ]
  },
  {
   "cell_type": "markdown",
   "id": "7743e907",
   "metadata": {
    "id": "ada4dd60",
    "papermill": {
     "duration": 0.015571,
     "end_time": "2025-02-20T11:19:30.148468",
     "exception": false,
     "start_time": "2025-02-20T11:19:30.132897",
     "status": "completed"
    },
    "tags": []
   },
   "source": [
    "### Data loading"
   ]
  },
  {
   "cell_type": "code",
   "execution_count": 3,
   "id": "1131f891",
   "metadata": {
    "execution": {
     "iopub.execute_input": "2025-02-20T11:19:30.181372Z",
     "iopub.status.busy": "2025-02-20T11:19:30.180794Z",
     "iopub.status.idle": "2025-02-20T11:19:34.907818Z",
     "shell.execute_reply": "2025-02-20T11:19:34.906605Z"
    },
    "id": "403b0304",
    "outputId": "e74775a0-74e8-4c3d-bf6d-1cf5dacc1def",
    "papermill": {
     "duration": 4.74562,
     "end_time": "2025-02-20T11:19:34.909856",
     "exception": false,
     "start_time": "2025-02-20T11:19:30.164236",
     "status": "completed"
    },
    "scrolled": true,
    "tags": []
   },
   "outputs": [
    {
     "name": "stderr",
     "output_type": "stream",
     "text": [
      "/usr/local/lib/python3.10/dist-packages/pandas/io/formats/format.py:1458: RuntimeWarning: invalid value encountered in greater\n",
      "  has_large_values = (abs_vals > 1e6).any()\n",
      "/usr/local/lib/python3.10/dist-packages/pandas/io/formats/format.py:1459: RuntimeWarning: invalid value encountered in less\n",
      "  has_small_values = ((abs_vals < 10 ** (-self.digits)) & (abs_vals > 0)).any()\n",
      "/usr/local/lib/python3.10/dist-packages/pandas/io/formats/format.py:1459: RuntimeWarning: invalid value encountered in greater\n",
      "  has_small_values = ((abs_vals < 10 ** (-self.digits)) & (abs_vals > 0)).any()\n"
     ]
    },
    {
     "data": {
      "text/html": [
       "<div>\n",
       "<style scoped>\n",
       "    .dataframe tbody tr th:only-of-type {\n",
       "        vertical-align: middle;\n",
       "    }\n",
       "\n",
       "    .dataframe tbody tr th {\n",
       "        vertical-align: top;\n",
       "    }\n",
       "\n",
       "    .dataframe thead th {\n",
       "        text-align: right;\n",
       "    }\n",
       "</style>\n",
       "<table border=\"1\" class=\"dataframe\">\n",
       "  <thead>\n",
       "    <tr style=\"text-align: right;\">\n",
       "      <th></th>\n",
       "      <th>PassengerId</th>\n",
       "      <th>Survived</th>\n",
       "      <th>Pclass</th>\n",
       "      <th>Name</th>\n",
       "      <th>Sex</th>\n",
       "      <th>Age</th>\n",
       "      <th>SibSp</th>\n",
       "      <th>Parch</th>\n",
       "      <th>Ticket</th>\n",
       "      <th>Fare</th>\n",
       "      <th>Cabin</th>\n",
       "      <th>Embarked</th>\n",
       "    </tr>\n",
       "  </thead>\n",
       "  <tbody>\n",
       "    <tr>\n",
       "      <th>0</th>\n",
       "      <td>1</td>\n",
       "      <td>0</td>\n",
       "      <td>3</td>\n",
       "      <td>Braund, Mr. Owen Harris</td>\n",
       "      <td>male</td>\n",
       "      <td>22.0</td>\n",
       "      <td>1</td>\n",
       "      <td>0</td>\n",
       "      <td>A/5 21171</td>\n",
       "      <td>7.2500</td>\n",
       "      <td>NaN</td>\n",
       "      <td>S</td>\n",
       "    </tr>\n",
       "    <tr>\n",
       "      <th>1</th>\n",
       "      <td>2</td>\n",
       "      <td>1</td>\n",
       "      <td>1</td>\n",
       "      <td>Cumings, Mrs. John Bradley (Florence Briggs Th...</td>\n",
       "      <td>female</td>\n",
       "      <td>38.0</td>\n",
       "      <td>1</td>\n",
       "      <td>0</td>\n",
       "      <td>PC 17599</td>\n",
       "      <td>71.2833</td>\n",
       "      <td>C85</td>\n",
       "      <td>C</td>\n",
       "    </tr>\n",
       "    <tr>\n",
       "      <th>2</th>\n",
       "      <td>3</td>\n",
       "      <td>1</td>\n",
       "      <td>3</td>\n",
       "      <td>Heikkinen, Miss. Laina</td>\n",
       "      <td>female</td>\n",
       "      <td>26.0</td>\n",
       "      <td>0</td>\n",
       "      <td>0</td>\n",
       "      <td>STON/O2. 3101282</td>\n",
       "      <td>7.9250</td>\n",
       "      <td>NaN</td>\n",
       "      <td>S</td>\n",
       "    </tr>\n",
       "    <tr>\n",
       "      <th>3</th>\n",
       "      <td>4</td>\n",
       "      <td>1</td>\n",
       "      <td>1</td>\n",
       "      <td>Futrelle, Mrs. Jacques Heath (Lily May Peel)</td>\n",
       "      <td>female</td>\n",
       "      <td>35.0</td>\n",
       "      <td>1</td>\n",
       "      <td>0</td>\n",
       "      <td>113803</td>\n",
       "      <td>53.1000</td>\n",
       "      <td>C123</td>\n",
       "      <td>S</td>\n",
       "    </tr>\n",
       "    <tr>\n",
       "      <th>4</th>\n",
       "      <td>5</td>\n",
       "      <td>0</td>\n",
       "      <td>3</td>\n",
       "      <td>Allen, Mr. William Henry</td>\n",
       "      <td>male</td>\n",
       "      <td>35.0</td>\n",
       "      <td>0</td>\n",
       "      <td>0</td>\n",
       "      <td>373450</td>\n",
       "      <td>8.0500</td>\n",
       "      <td>NaN</td>\n",
       "      <td>S</td>\n",
       "    </tr>\n",
       "    <tr>\n",
       "      <th>...</th>\n",
       "      <td>...</td>\n",
       "      <td>...</td>\n",
       "      <td>...</td>\n",
       "      <td>...</td>\n",
       "      <td>...</td>\n",
       "      <td>...</td>\n",
       "      <td>...</td>\n",
       "      <td>...</td>\n",
       "      <td>...</td>\n",
       "      <td>...</td>\n",
       "      <td>...</td>\n",
       "      <td>...</td>\n",
       "    </tr>\n",
       "    <tr>\n",
       "      <th>886</th>\n",
       "      <td>887</td>\n",
       "      <td>0</td>\n",
       "      <td>2</td>\n",
       "      <td>Montvila, Rev. Juozas</td>\n",
       "      <td>male</td>\n",
       "      <td>27.0</td>\n",
       "      <td>0</td>\n",
       "      <td>0</td>\n",
       "      <td>211536</td>\n",
       "      <td>13.0000</td>\n",
       "      <td>NaN</td>\n",
       "      <td>S</td>\n",
       "    </tr>\n",
       "    <tr>\n",
       "      <th>887</th>\n",
       "      <td>888</td>\n",
       "      <td>1</td>\n",
       "      <td>1</td>\n",
       "      <td>Graham, Miss. Margaret Edith</td>\n",
       "      <td>female</td>\n",
       "      <td>19.0</td>\n",
       "      <td>0</td>\n",
       "      <td>0</td>\n",
       "      <td>112053</td>\n",
       "      <td>30.0000</td>\n",
       "      <td>B42</td>\n",
       "      <td>S</td>\n",
       "    </tr>\n",
       "    <tr>\n",
       "      <th>888</th>\n",
       "      <td>889</td>\n",
       "      <td>0</td>\n",
       "      <td>3</td>\n",
       "      <td>Johnston, Miss. Catherine Helen \"Carrie\"</td>\n",
       "      <td>female</td>\n",
       "      <td>NaN</td>\n",
       "      <td>1</td>\n",
       "      <td>2</td>\n",
       "      <td>W./C. 6607</td>\n",
       "      <td>23.4500</td>\n",
       "      <td>NaN</td>\n",
       "      <td>S</td>\n",
       "    </tr>\n",
       "    <tr>\n",
       "      <th>889</th>\n",
       "      <td>890</td>\n",
       "      <td>1</td>\n",
       "      <td>1</td>\n",
       "      <td>Behr, Mr. Karl Howell</td>\n",
       "      <td>male</td>\n",
       "      <td>26.0</td>\n",
       "      <td>0</td>\n",
       "      <td>0</td>\n",
       "      <td>111369</td>\n",
       "      <td>30.0000</td>\n",
       "      <td>C148</td>\n",
       "      <td>C</td>\n",
       "    </tr>\n",
       "    <tr>\n",
       "      <th>890</th>\n",
       "      <td>891</td>\n",
       "      <td>0</td>\n",
       "      <td>3</td>\n",
       "      <td>Dooley, Mr. Patrick</td>\n",
       "      <td>male</td>\n",
       "      <td>32.0</td>\n",
       "      <td>0</td>\n",
       "      <td>0</td>\n",
       "      <td>370376</td>\n",
       "      <td>7.7500</td>\n",
       "      <td>NaN</td>\n",
       "      <td>Q</td>\n",
       "    </tr>\n",
       "  </tbody>\n",
       "</table>\n",
       "<p>891 rows × 12 columns</p>\n",
       "</div>"
      ],
      "text/plain": [
       "     PassengerId  Survived  Pclass  \\\n",
       "0              1         0       3   \n",
       "1              2         1       1   \n",
       "2              3         1       3   \n",
       "3              4         1       1   \n",
       "4              5         0       3   \n",
       "..           ...       ...     ...   \n",
       "886          887         0       2   \n",
       "887          888         1       1   \n",
       "888          889         0       3   \n",
       "889          890         1       1   \n",
       "890          891         0       3   \n",
       "\n",
       "                                                  Name     Sex   Age  SibSp  \\\n",
       "0                              Braund, Mr. Owen Harris    male  22.0      1   \n",
       "1    Cumings, Mrs. John Bradley (Florence Briggs Th...  female  38.0      1   \n",
       "2                               Heikkinen, Miss. Laina  female  26.0      0   \n",
       "3         Futrelle, Mrs. Jacques Heath (Lily May Peel)  female  35.0      1   \n",
       "4                             Allen, Mr. William Henry    male  35.0      0   \n",
       "..                                                 ...     ...   ...    ...   \n",
       "886                              Montvila, Rev. Juozas    male  27.0      0   \n",
       "887                       Graham, Miss. Margaret Edith  female  19.0      0   \n",
       "888           Johnston, Miss. Catherine Helen \"Carrie\"  female   NaN      1   \n",
       "889                              Behr, Mr. Karl Howell    male  26.0      0   \n",
       "890                                Dooley, Mr. Patrick    male  32.0      0   \n",
       "\n",
       "     Parch            Ticket     Fare Cabin Embarked  \n",
       "0        0         A/5 21171   7.2500   NaN        S  \n",
       "1        0          PC 17599  71.2833   C85        C  \n",
       "2        0  STON/O2. 3101282   7.9250   NaN        S  \n",
       "3        0            113803  53.1000  C123        S  \n",
       "4        0            373450   8.0500   NaN        S  \n",
       "..     ...               ...      ...   ...      ...  \n",
       "886      0            211536  13.0000   NaN        S  \n",
       "887      0            112053  30.0000   B42        S  \n",
       "888      2        W./C. 6607  23.4500   NaN        S  \n",
       "889      0            111369  30.0000  C148        C  \n",
       "890      0            370376   7.7500   NaN        Q  \n",
       "\n",
       "[891 rows x 12 columns]"
      ]
     },
     "execution_count": 3,
     "metadata": {},
     "output_type": "execute_result"
    }
   ],
   "source": [
    "train_data = pd.read_csv('https://drive.google.com/uc?export=download&id=1WMZRFuEMMZOBaoi1qEiuLocs5MnLsHIP')\n",
    "test_data = pd.read_csv('https://drive.google.com/uc?export=download&id=1mnz1W2YzBPMjIkRq8D9ejzqgGQr9TlJ-')\n",
    "train_data"
   ]
  },
  {
   "cell_type": "code",
   "execution_count": 4,
   "id": "bef415a4",
   "metadata": {
    "execution": {
     "iopub.execute_input": "2025-02-20T11:19:34.944088Z",
     "iopub.status.busy": "2025-02-20T11:19:34.943724Z",
     "iopub.status.idle": "2025-02-20T11:19:34.970689Z",
     "shell.execute_reply": "2025-02-20T11:19:34.969385Z"
    },
    "id": "60480e13",
    "outputId": "ecd7fe02-9911-4b10-fe79-ef7c524b6ceb",
    "papermill": {
     "duration": 0.04559,
     "end_time": "2025-02-20T11:19:34.972526",
     "exception": false,
     "start_time": "2025-02-20T11:19:34.926936",
     "status": "completed"
    },
    "tags": []
   },
   "outputs": [
    {
     "name": "stdout",
     "output_type": "stream",
     "text": [
      "<class 'pandas.core.frame.DataFrame'>\n",
      "RangeIndex: 891 entries, 0 to 890\n",
      "Data columns (total 12 columns):\n",
      " #   Column       Non-Null Count  Dtype  \n",
      "---  ------       --------------  -----  \n",
      " 0   PassengerId  891 non-null    int64  \n",
      " 1   Survived     891 non-null    int64  \n",
      " 2   Pclass       891 non-null    int64  \n",
      " 3   Name         891 non-null    object \n",
      " 4   Sex          891 non-null    object \n",
      " 5   Age          714 non-null    float64\n",
      " 6   SibSp        891 non-null    int64  \n",
      " 7   Parch        891 non-null    int64  \n",
      " 8   Ticket       891 non-null    object \n",
      " 9   Fare         891 non-null    float64\n",
      " 10  Cabin        204 non-null    object \n",
      " 11  Embarked     889 non-null    object \n",
      "dtypes: float64(2), int64(5), object(5)\n",
      "memory usage: 83.7+ KB\n"
     ]
    }
   ],
   "source": [
    "train_data.info()"
   ]
  },
  {
   "cell_type": "code",
   "execution_count": 5,
   "id": "a1a69239",
   "metadata": {
    "execution": {
     "iopub.execute_input": "2025-02-20T11:19:35.006548Z",
     "iopub.status.busy": "2025-02-20T11:19:35.006047Z",
     "iopub.status.idle": "2025-02-20T11:19:35.018019Z",
     "shell.execute_reply": "2025-02-20T11:19:35.016938Z"
    },
    "id": "5ef6c540",
    "outputId": "d2c7788c-8698-4a40-8fad-14eedd7df28e",
    "papermill": {
     "duration": 0.030347,
     "end_time": "2025-02-20T11:19:35.019672",
     "exception": false,
     "start_time": "2025-02-20T11:19:34.989325",
     "status": "completed"
    },
    "tags": []
   },
   "outputs": [
    {
     "name": "stdout",
     "output_type": "stream",
     "text": [
      "<class 'pandas.core.frame.DataFrame'>\n",
      "RangeIndex: 418 entries, 0 to 417\n",
      "Data columns (total 11 columns):\n",
      " #   Column       Non-Null Count  Dtype  \n",
      "---  ------       --------------  -----  \n",
      " 0   PassengerId  418 non-null    int64  \n",
      " 1   Pclass       418 non-null    int64  \n",
      " 2   Name         418 non-null    object \n",
      " 3   Sex          418 non-null    object \n",
      " 4   Age          332 non-null    float64\n",
      " 5   SibSp        418 non-null    int64  \n",
      " 6   Parch        418 non-null    int64  \n",
      " 7   Ticket       418 non-null    object \n",
      " 8   Fare         417 non-null    float64\n",
      " 9   Cabin        91 non-null     object \n",
      " 10  Embarked     418 non-null    object \n",
      "dtypes: float64(2), int64(4), object(5)\n",
      "memory usage: 36.0+ KB\n"
     ]
    }
   ],
   "source": [
    "test_data.info()"
   ]
  },
  {
   "cell_type": "markdown",
   "id": "40e8943b",
   "metadata": {
    "id": "37684fec",
    "papermill": {
     "duration": 0.016456,
     "end_time": "2025-02-20T11:19:35.052226",
     "exception": false,
     "start_time": "2025-02-20T11:19:35.035770",
     "status": "completed"
    },
    "tags": []
   },
   "source": [
    "## Pre-processing\n",
    "\n",
    "### Column names\n",
    "\n",
    "We will transform columns' names to snake case."
   ]
  },
  {
   "cell_type": "code",
   "execution_count": 6,
   "id": "00c70722",
   "metadata": {
    "execution": {
     "iopub.execute_input": "2025-02-20T11:19:35.085652Z",
     "iopub.status.busy": "2025-02-20T11:19:35.085313Z",
     "iopub.status.idle": "2025-02-20T11:19:35.092750Z",
     "shell.execute_reply": "2025-02-20T11:19:35.091786Z"
    },
    "id": "16c67aed",
    "papermill": {
     "duration": 0.026495,
     "end_time": "2025-02-20T11:19:35.094833",
     "exception": false,
     "start_time": "2025-02-20T11:19:35.068338",
     "status": "completed"
    },
    "tags": []
   },
   "outputs": [],
   "source": [
    "train_data.columns = ['passenger_id', 'survived', 'p_class',\n",
    "                      'name', 'sex', 'age', 'sib_sp',\n",
    "                      'parch', 'ticket', 'fare', 'cabin', 'embarked']\n",
    "test_data.columns = train_data.drop('survived', axis=1).columns"
   ]
  },
  {
   "cell_type": "markdown",
   "id": "3f14d89c",
   "metadata": {
    "id": "cbbbec27",
    "papermill": {
     "duration": 0.015526,
     "end_time": "2025-02-20T11:19:35.127719",
     "exception": false,
     "start_time": "2025-02-20T11:19:35.112193",
     "status": "completed"
    },
    "tags": []
   },
   "source": [
    "### Missing values\n",
    "\n",
    "There are missing values in `'age'`, `'cabin'` and `'embarked'` columns. We will take a closer look at them."
   ]
  },
  {
   "cell_type": "markdown",
   "id": "7ca2fd6a",
   "metadata": {
    "id": "c4b66564",
    "papermill": {
     "duration": 0.01583,
     "end_time": "2025-02-20T11:19:35.159427",
     "exception": false,
     "start_time": "2025-02-20T11:19:35.143597",
     "status": "completed"
    },
    "tags": []
   },
   "source": [
    "#### age\n",
    "\n",
    "We will check if the missing values are missing at random"
   ]
  },
  {
   "cell_type": "code",
   "execution_count": 7,
   "id": "8a550214",
   "metadata": {
    "execution": {
     "iopub.execute_input": "2025-02-20T11:19:35.193384Z",
     "iopub.status.busy": "2025-02-20T11:19:35.192937Z",
     "iopub.status.idle": "2025-02-20T11:19:35.212135Z",
     "shell.execute_reply": "2025-02-20T11:19:35.210890Z"
    },
    "id": "3d8b8b97",
    "outputId": "9f2447a2-3cdf-4722-a5f4-92f8334603b8",
    "papermill": {
     "duration": 0.038325,
     "end_time": "2025-02-20T11:19:35.214073",
     "exception": false,
     "start_time": "2025-02-20T11:19:35.175748",
     "status": "completed"
    },
    "tags": []
   },
   "outputs": [
    {
     "name": "stderr",
     "output_type": "stream",
     "text": [
      "/usr/local/lib/python3.10/dist-packages/pandas/io/formats/format.py:1458: RuntimeWarning: invalid value encountered in greater\n",
      "  has_large_values = (abs_vals > 1e6).any()\n",
      "/usr/local/lib/python3.10/dist-packages/pandas/io/formats/format.py:1459: RuntimeWarning: invalid value encountered in less\n",
      "  has_small_values = ((abs_vals < 10 ** (-self.digits)) & (abs_vals > 0)).any()\n",
      "/usr/local/lib/python3.10/dist-packages/pandas/io/formats/format.py:1459: RuntimeWarning: invalid value encountered in greater\n",
      "  has_small_values = ((abs_vals < 10 ** (-self.digits)) & (abs_vals > 0)).any()\n"
     ]
    },
    {
     "data": {
      "text/html": [
       "<div>\n",
       "<style scoped>\n",
       "    .dataframe tbody tr th:only-of-type {\n",
       "        vertical-align: middle;\n",
       "    }\n",
       "\n",
       "    .dataframe tbody tr th {\n",
       "        vertical-align: top;\n",
       "    }\n",
       "\n",
       "    .dataframe thead th {\n",
       "        text-align: right;\n",
       "    }\n",
       "</style>\n",
       "<table border=\"1\" class=\"dataframe\">\n",
       "  <thead>\n",
       "    <tr style=\"text-align: right;\">\n",
       "      <th></th>\n",
       "      <th>passenger_id</th>\n",
       "      <th>survived</th>\n",
       "      <th>p_class</th>\n",
       "      <th>name</th>\n",
       "      <th>sex</th>\n",
       "      <th>age</th>\n",
       "      <th>sib_sp</th>\n",
       "      <th>parch</th>\n",
       "      <th>ticket</th>\n",
       "      <th>fare</th>\n",
       "      <th>cabin</th>\n",
       "      <th>embarked</th>\n",
       "    </tr>\n",
       "  </thead>\n",
       "  <tbody>\n",
       "    <tr>\n",
       "      <th>5</th>\n",
       "      <td>6</td>\n",
       "      <td>0</td>\n",
       "      <td>3</td>\n",
       "      <td>Moran, Mr. James</td>\n",
       "      <td>male</td>\n",
       "      <td>NaN</td>\n",
       "      <td>0</td>\n",
       "      <td>0</td>\n",
       "      <td>330877</td>\n",
       "      <td>8.4583</td>\n",
       "      <td>NaN</td>\n",
       "      <td>Q</td>\n",
       "    </tr>\n",
       "    <tr>\n",
       "      <th>17</th>\n",
       "      <td>18</td>\n",
       "      <td>1</td>\n",
       "      <td>2</td>\n",
       "      <td>Williams, Mr. Charles Eugene</td>\n",
       "      <td>male</td>\n",
       "      <td>NaN</td>\n",
       "      <td>0</td>\n",
       "      <td>0</td>\n",
       "      <td>244373</td>\n",
       "      <td>13.0000</td>\n",
       "      <td>NaN</td>\n",
       "      <td>S</td>\n",
       "    </tr>\n",
       "    <tr>\n",
       "      <th>19</th>\n",
       "      <td>20</td>\n",
       "      <td>1</td>\n",
       "      <td>3</td>\n",
       "      <td>Masselmani, Mrs. Fatima</td>\n",
       "      <td>female</td>\n",
       "      <td>NaN</td>\n",
       "      <td>0</td>\n",
       "      <td>0</td>\n",
       "      <td>2649</td>\n",
       "      <td>7.2250</td>\n",
       "      <td>NaN</td>\n",
       "      <td>C</td>\n",
       "    </tr>\n",
       "    <tr>\n",
       "      <th>26</th>\n",
       "      <td>27</td>\n",
       "      <td>0</td>\n",
       "      <td>3</td>\n",
       "      <td>Emir, Mr. Farred Chehab</td>\n",
       "      <td>male</td>\n",
       "      <td>NaN</td>\n",
       "      <td>0</td>\n",
       "      <td>0</td>\n",
       "      <td>2631</td>\n",
       "      <td>7.2250</td>\n",
       "      <td>NaN</td>\n",
       "      <td>C</td>\n",
       "    </tr>\n",
       "    <tr>\n",
       "      <th>28</th>\n",
       "      <td>29</td>\n",
       "      <td>1</td>\n",
       "      <td>3</td>\n",
       "      <td>O'Dwyer, Miss. Ellen \"Nellie\"</td>\n",
       "      <td>female</td>\n",
       "      <td>NaN</td>\n",
       "      <td>0</td>\n",
       "      <td>0</td>\n",
       "      <td>330959</td>\n",
       "      <td>7.8792</td>\n",
       "      <td>NaN</td>\n",
       "      <td>Q</td>\n",
       "    </tr>\n",
       "    <tr>\n",
       "      <th>...</th>\n",
       "      <td>...</td>\n",
       "      <td>...</td>\n",
       "      <td>...</td>\n",
       "      <td>...</td>\n",
       "      <td>...</td>\n",
       "      <td>...</td>\n",
       "      <td>...</td>\n",
       "      <td>...</td>\n",
       "      <td>...</td>\n",
       "      <td>...</td>\n",
       "      <td>...</td>\n",
       "      <td>...</td>\n",
       "    </tr>\n",
       "    <tr>\n",
       "      <th>859</th>\n",
       "      <td>860</td>\n",
       "      <td>0</td>\n",
       "      <td>3</td>\n",
       "      <td>Razi, Mr. Raihed</td>\n",
       "      <td>male</td>\n",
       "      <td>NaN</td>\n",
       "      <td>0</td>\n",
       "      <td>0</td>\n",
       "      <td>2629</td>\n",
       "      <td>7.2292</td>\n",
       "      <td>NaN</td>\n",
       "      <td>C</td>\n",
       "    </tr>\n",
       "    <tr>\n",
       "      <th>863</th>\n",
       "      <td>864</td>\n",
       "      <td>0</td>\n",
       "      <td>3</td>\n",
       "      <td>Sage, Miss. Dorothy Edith \"Dolly\"</td>\n",
       "      <td>female</td>\n",
       "      <td>NaN</td>\n",
       "      <td>8</td>\n",
       "      <td>2</td>\n",
       "      <td>CA. 2343</td>\n",
       "      <td>69.5500</td>\n",
       "      <td>NaN</td>\n",
       "      <td>S</td>\n",
       "    </tr>\n",
       "    <tr>\n",
       "      <th>868</th>\n",
       "      <td>869</td>\n",
       "      <td>0</td>\n",
       "      <td>3</td>\n",
       "      <td>van Melkebeke, Mr. Philemon</td>\n",
       "      <td>male</td>\n",
       "      <td>NaN</td>\n",
       "      <td>0</td>\n",
       "      <td>0</td>\n",
       "      <td>345777</td>\n",
       "      <td>9.5000</td>\n",
       "      <td>NaN</td>\n",
       "      <td>S</td>\n",
       "    </tr>\n",
       "    <tr>\n",
       "      <th>878</th>\n",
       "      <td>879</td>\n",
       "      <td>0</td>\n",
       "      <td>3</td>\n",
       "      <td>Laleff, Mr. Kristo</td>\n",
       "      <td>male</td>\n",
       "      <td>NaN</td>\n",
       "      <td>0</td>\n",
       "      <td>0</td>\n",
       "      <td>349217</td>\n",
       "      <td>7.8958</td>\n",
       "      <td>NaN</td>\n",
       "      <td>S</td>\n",
       "    </tr>\n",
       "    <tr>\n",
       "      <th>888</th>\n",
       "      <td>889</td>\n",
       "      <td>0</td>\n",
       "      <td>3</td>\n",
       "      <td>Johnston, Miss. Catherine Helen \"Carrie\"</td>\n",
       "      <td>female</td>\n",
       "      <td>NaN</td>\n",
       "      <td>1</td>\n",
       "      <td>2</td>\n",
       "      <td>W./C. 6607</td>\n",
       "      <td>23.4500</td>\n",
       "      <td>NaN</td>\n",
       "      <td>S</td>\n",
       "    </tr>\n",
       "  </tbody>\n",
       "</table>\n",
       "<p>177 rows × 12 columns</p>\n",
       "</div>"
      ],
      "text/plain": [
       "     passenger_id  survived  p_class  \\\n",
       "5               6         0        3   \n",
       "17             18         1        2   \n",
       "19             20         1        3   \n",
       "26             27         0        3   \n",
       "28             29         1        3   \n",
       "..            ...       ...      ...   \n",
       "859           860         0        3   \n",
       "863           864         0        3   \n",
       "868           869         0        3   \n",
       "878           879         0        3   \n",
       "888           889         0        3   \n",
       "\n",
       "                                         name     sex  age  sib_sp  parch  \\\n",
       "5                            Moran, Mr. James    male  NaN       0      0   \n",
       "17               Williams, Mr. Charles Eugene    male  NaN       0      0   \n",
       "19                    Masselmani, Mrs. Fatima  female  NaN       0      0   \n",
       "26                    Emir, Mr. Farred Chehab    male  NaN       0      0   \n",
       "28              O'Dwyer, Miss. Ellen \"Nellie\"  female  NaN       0      0   \n",
       "..                                        ...     ...  ...     ...    ...   \n",
       "859                          Razi, Mr. Raihed    male  NaN       0      0   \n",
       "863         Sage, Miss. Dorothy Edith \"Dolly\"  female  NaN       8      2   \n",
       "868               van Melkebeke, Mr. Philemon    male  NaN       0      0   \n",
       "878                        Laleff, Mr. Kristo    male  NaN       0      0   \n",
       "888  Johnston, Miss. Catherine Helen \"Carrie\"  female  NaN       1      2   \n",
       "\n",
       "         ticket     fare cabin embarked  \n",
       "5        330877   8.4583   NaN        Q  \n",
       "17       244373  13.0000   NaN        S  \n",
       "19         2649   7.2250   NaN        C  \n",
       "26         2631   7.2250   NaN        C  \n",
       "28       330959   7.8792   NaN        Q  \n",
       "..          ...      ...   ...      ...  \n",
       "859        2629   7.2292   NaN        C  \n",
       "863    CA. 2343  69.5500   NaN        S  \n",
       "868      345777   9.5000   NaN        S  \n",
       "878      349217   7.8958   NaN        S  \n",
       "888  W./C. 6607  23.4500   NaN        S  \n",
       "\n",
       "[177 rows x 12 columns]"
      ]
     },
     "execution_count": 7,
     "metadata": {},
     "output_type": "execute_result"
    }
   ],
   "source": [
    "age_missing = train_data[train_data['age'].isna()]\n",
    "age_missing"
   ]
  },
  {
   "cell_type": "code",
   "execution_count": 8,
   "id": "f11c9abe",
   "metadata": {
    "execution": {
     "iopub.execute_input": "2025-02-20T11:19:35.249591Z",
     "iopub.status.busy": "2025-02-20T11:19:35.249220Z",
     "iopub.status.idle": "2025-02-20T11:19:35.259135Z",
     "shell.execute_reply": "2025-02-20T11:19:35.257784Z"
    },
    "id": "2a6ee599",
    "outputId": "ec597162-0e47-40e8-e568-0149b393844d",
    "papermill": {
     "duration": 0.030112,
     "end_time": "2025-02-20T11:19:35.261045",
     "exception": false,
     "start_time": "2025-02-20T11:19:35.230933",
     "status": "completed"
    },
    "tags": []
   },
   "outputs": [
    {
     "data": {
      "text/plain": [
       "sex\n",
       "female    0.299435\n",
       "male      0.700565\n",
       "Name: passenger_id, dtype: float64"
      ]
     },
     "execution_count": 8,
     "metadata": {},
     "output_type": "execute_result"
    }
   ],
   "source": [
    "age_missing.groupby('sex')['passenger_id'].count()/len(age_missing)"
   ]
  },
  {
   "cell_type": "markdown",
   "id": "1bb8e0d6",
   "metadata": {
    "id": "4cf1cb2a",
    "papermill": {
     "duration": 0.016575,
     "end_time": "2025-02-20T11:19:35.294156",
     "exception": false,
     "start_time": "2025-02-20T11:19:35.277581",
     "status": "completed"
    },
    "tags": []
   },
   "source": [
    "Women could not tell the age more often than men, but there are more men without specified age (30% vs 70%)."
   ]
  },
  {
   "cell_type": "code",
   "execution_count": 9,
   "id": "a5687ab0",
   "metadata": {
    "execution": {
     "iopub.execute_input": "2025-02-20T11:19:35.328445Z",
     "iopub.status.busy": "2025-02-20T11:19:35.328010Z",
     "iopub.status.idle": "2025-02-20T11:19:35.337246Z",
     "shell.execute_reply": "2025-02-20T11:19:35.336009Z"
    },
    "id": "0c7326ae",
    "outputId": "1359d45b-cdc5-4647-a204-e26522b32514",
    "papermill": {
     "duration": 0.028677,
     "end_time": "2025-02-20T11:19:35.339124",
     "exception": false,
     "start_time": "2025-02-20T11:19:35.310447",
     "status": "completed"
    },
    "tags": []
   },
   "outputs": [
    {
     "data": {
      "text/plain": [
       "p_class\n",
       "1    0.169492\n",
       "2    0.062147\n",
       "3    0.768362\n",
       "Name: passenger_id, dtype: float64"
      ]
     },
     "execution_count": 9,
     "metadata": {},
     "output_type": "execute_result"
    }
   ],
   "source": [
    "age_missing.groupby('p_class')['passenger_id'].count()/len(age_missing)"
   ]
  },
  {
   "cell_type": "markdown",
   "id": "6bd2edbd",
   "metadata": {
    "id": "a3b164a7",
    "papermill": {
     "duration": 0.016204,
     "end_time": "2025-02-20T11:19:35.372997",
     "exception": false,
     "start_time": "2025-02-20T11:19:35.356793",
     "status": "completed"
    },
    "tags": []
   },
   "source": [
    "It seems these missing values can be connected with the class of passenger. Most of people without specifies age were passengers of `'class 3'` (76%).\n",
    "So we will fill missing values in age with `-1` which means age is `'not stated'`. The third class is the cheapest and that is why data could be lost."
   ]
  },
  {
   "cell_type": "code",
   "execution_count": 10,
   "id": "fabee3c9",
   "metadata": {
    "execution": {
     "iopub.execute_input": "2025-02-20T11:19:35.464409Z",
     "iopub.status.busy": "2025-02-20T11:19:35.463997Z",
     "iopub.status.idle": "2025-02-20T11:19:35.470431Z",
     "shell.execute_reply": "2025-02-20T11:19:35.469242Z"
    },
    "id": "17695b66",
    "papermill": {
     "duration": 0.025719,
     "end_time": "2025-02-20T11:19:35.472350",
     "exception": false,
     "start_time": "2025-02-20T11:19:35.446631",
     "status": "completed"
    },
    "tags": []
   },
   "outputs": [],
   "source": [
    "for df in [train_data, test_data]:\n",
    "    df['age'] = df['age'].fillna(-1)"
   ]
  },
  {
   "cell_type": "markdown",
   "id": "baa7b8e1",
   "metadata": {
    "id": "1ef5f6d6",
    "papermill": {
     "duration": 0.016304,
     "end_time": "2025-02-20T11:19:35.505112",
     "exception": false,
     "start_time": "2025-02-20T11:19:35.488808",
     "status": "completed"
    },
    "tags": []
   },
   "source": [
    "#### cabin\n",
    "\n",
    "Most data does not contain information about cabin. We suggest this is connected with class"
   ]
  },
  {
   "cell_type": "code",
   "execution_count": 11,
   "id": "b2e39291",
   "metadata": {
    "execution": {
     "iopub.execute_input": "2025-02-20T11:19:35.539509Z",
     "iopub.status.busy": "2025-02-20T11:19:35.539075Z",
     "iopub.status.idle": "2025-02-20T11:19:35.556617Z",
     "shell.execute_reply": "2025-02-20T11:19:35.555507Z"
    },
    "id": "e9395322",
    "outputId": "fceaef5f-0264-4fe3-fd75-9334b321cd94",
    "papermill": {
     "duration": 0.03706,
     "end_time": "2025-02-20T11:19:35.558696",
     "exception": false,
     "start_time": "2025-02-20T11:19:35.521636",
     "status": "completed"
    },
    "tags": []
   },
   "outputs": [
    {
     "data": {
      "text/html": [
       "<div>\n",
       "<style scoped>\n",
       "    .dataframe tbody tr th:only-of-type {\n",
       "        vertical-align: middle;\n",
       "    }\n",
       "\n",
       "    .dataframe tbody tr th {\n",
       "        vertical-align: top;\n",
       "    }\n",
       "\n",
       "    .dataframe thead th {\n",
       "        text-align: right;\n",
       "    }\n",
       "</style>\n",
       "<table border=\"1\" class=\"dataframe\">\n",
       "  <thead>\n",
       "    <tr style=\"text-align: right;\">\n",
       "      <th></th>\n",
       "      <th>passenger_id</th>\n",
       "      <th>survived</th>\n",
       "      <th>p_class</th>\n",
       "      <th>name</th>\n",
       "      <th>sex</th>\n",
       "      <th>age</th>\n",
       "      <th>sib_sp</th>\n",
       "      <th>parch</th>\n",
       "      <th>ticket</th>\n",
       "      <th>fare</th>\n",
       "      <th>cabin</th>\n",
       "      <th>embarked</th>\n",
       "    </tr>\n",
       "  </thead>\n",
       "  <tbody>\n",
       "    <tr>\n",
       "      <th>0</th>\n",
       "      <td>1</td>\n",
       "      <td>0</td>\n",
       "      <td>3</td>\n",
       "      <td>Braund, Mr. Owen Harris</td>\n",
       "      <td>male</td>\n",
       "      <td>22.0</td>\n",
       "      <td>1</td>\n",
       "      <td>0</td>\n",
       "      <td>A/5 21171</td>\n",
       "      <td>7.2500</td>\n",
       "      <td>NaN</td>\n",
       "      <td>S</td>\n",
       "    </tr>\n",
       "    <tr>\n",
       "      <th>2</th>\n",
       "      <td>3</td>\n",
       "      <td>1</td>\n",
       "      <td>3</td>\n",
       "      <td>Heikkinen, Miss. Laina</td>\n",
       "      <td>female</td>\n",
       "      <td>26.0</td>\n",
       "      <td>0</td>\n",
       "      <td>0</td>\n",
       "      <td>STON/O2. 3101282</td>\n",
       "      <td>7.9250</td>\n",
       "      <td>NaN</td>\n",
       "      <td>S</td>\n",
       "    </tr>\n",
       "    <tr>\n",
       "      <th>4</th>\n",
       "      <td>5</td>\n",
       "      <td>0</td>\n",
       "      <td>3</td>\n",
       "      <td>Allen, Mr. William Henry</td>\n",
       "      <td>male</td>\n",
       "      <td>35.0</td>\n",
       "      <td>0</td>\n",
       "      <td>0</td>\n",
       "      <td>373450</td>\n",
       "      <td>8.0500</td>\n",
       "      <td>NaN</td>\n",
       "      <td>S</td>\n",
       "    </tr>\n",
       "    <tr>\n",
       "      <th>5</th>\n",
       "      <td>6</td>\n",
       "      <td>0</td>\n",
       "      <td>3</td>\n",
       "      <td>Moran, Mr. James</td>\n",
       "      <td>male</td>\n",
       "      <td>-1.0</td>\n",
       "      <td>0</td>\n",
       "      <td>0</td>\n",
       "      <td>330877</td>\n",
       "      <td>8.4583</td>\n",
       "      <td>NaN</td>\n",
       "      <td>Q</td>\n",
       "    </tr>\n",
       "    <tr>\n",
       "      <th>7</th>\n",
       "      <td>8</td>\n",
       "      <td>0</td>\n",
       "      <td>3</td>\n",
       "      <td>Palsson, Master. Gosta Leonard</td>\n",
       "      <td>male</td>\n",
       "      <td>2.0</td>\n",
       "      <td>3</td>\n",
       "      <td>1</td>\n",
       "      <td>349909</td>\n",
       "      <td>21.0750</td>\n",
       "      <td>NaN</td>\n",
       "      <td>S</td>\n",
       "    </tr>\n",
       "    <tr>\n",
       "      <th>...</th>\n",
       "      <td>...</td>\n",
       "      <td>...</td>\n",
       "      <td>...</td>\n",
       "      <td>...</td>\n",
       "      <td>...</td>\n",
       "      <td>...</td>\n",
       "      <td>...</td>\n",
       "      <td>...</td>\n",
       "      <td>...</td>\n",
       "      <td>...</td>\n",
       "      <td>...</td>\n",
       "      <td>...</td>\n",
       "    </tr>\n",
       "    <tr>\n",
       "      <th>884</th>\n",
       "      <td>885</td>\n",
       "      <td>0</td>\n",
       "      <td>3</td>\n",
       "      <td>Sutehall, Mr. Henry Jr</td>\n",
       "      <td>male</td>\n",
       "      <td>25.0</td>\n",
       "      <td>0</td>\n",
       "      <td>0</td>\n",
       "      <td>SOTON/OQ 392076</td>\n",
       "      <td>7.0500</td>\n",
       "      <td>NaN</td>\n",
       "      <td>S</td>\n",
       "    </tr>\n",
       "    <tr>\n",
       "      <th>885</th>\n",
       "      <td>886</td>\n",
       "      <td>0</td>\n",
       "      <td>3</td>\n",
       "      <td>Rice, Mrs. William (Margaret Norton)</td>\n",
       "      <td>female</td>\n",
       "      <td>39.0</td>\n",
       "      <td>0</td>\n",
       "      <td>5</td>\n",
       "      <td>382652</td>\n",
       "      <td>29.1250</td>\n",
       "      <td>NaN</td>\n",
       "      <td>Q</td>\n",
       "    </tr>\n",
       "    <tr>\n",
       "      <th>886</th>\n",
       "      <td>887</td>\n",
       "      <td>0</td>\n",
       "      <td>2</td>\n",
       "      <td>Montvila, Rev. Juozas</td>\n",
       "      <td>male</td>\n",
       "      <td>27.0</td>\n",
       "      <td>0</td>\n",
       "      <td>0</td>\n",
       "      <td>211536</td>\n",
       "      <td>13.0000</td>\n",
       "      <td>NaN</td>\n",
       "      <td>S</td>\n",
       "    </tr>\n",
       "    <tr>\n",
       "      <th>888</th>\n",
       "      <td>889</td>\n",
       "      <td>0</td>\n",
       "      <td>3</td>\n",
       "      <td>Johnston, Miss. Catherine Helen \"Carrie\"</td>\n",
       "      <td>female</td>\n",
       "      <td>-1.0</td>\n",
       "      <td>1</td>\n",
       "      <td>2</td>\n",
       "      <td>W./C. 6607</td>\n",
       "      <td>23.4500</td>\n",
       "      <td>NaN</td>\n",
       "      <td>S</td>\n",
       "    </tr>\n",
       "    <tr>\n",
       "      <th>890</th>\n",
       "      <td>891</td>\n",
       "      <td>0</td>\n",
       "      <td>3</td>\n",
       "      <td>Dooley, Mr. Patrick</td>\n",
       "      <td>male</td>\n",
       "      <td>32.0</td>\n",
       "      <td>0</td>\n",
       "      <td>0</td>\n",
       "      <td>370376</td>\n",
       "      <td>7.7500</td>\n",
       "      <td>NaN</td>\n",
       "      <td>Q</td>\n",
       "    </tr>\n",
       "  </tbody>\n",
       "</table>\n",
       "<p>687 rows × 12 columns</p>\n",
       "</div>"
      ],
      "text/plain": [
       "     passenger_id  survived  p_class  \\\n",
       "0               1         0        3   \n",
       "2               3         1        3   \n",
       "4               5         0        3   \n",
       "5               6         0        3   \n",
       "7               8         0        3   \n",
       "..            ...       ...      ...   \n",
       "884           885         0        3   \n",
       "885           886         0        3   \n",
       "886           887         0        2   \n",
       "888           889         0        3   \n",
       "890           891         0        3   \n",
       "\n",
       "                                         name     sex   age  sib_sp  parch  \\\n",
       "0                     Braund, Mr. Owen Harris    male  22.0       1      0   \n",
       "2                      Heikkinen, Miss. Laina  female  26.0       0      0   \n",
       "4                    Allen, Mr. William Henry    male  35.0       0      0   \n",
       "5                            Moran, Mr. James    male  -1.0       0      0   \n",
       "7              Palsson, Master. Gosta Leonard    male   2.0       3      1   \n",
       "..                                        ...     ...   ...     ...    ...   \n",
       "884                    Sutehall, Mr. Henry Jr    male  25.0       0      0   \n",
       "885      Rice, Mrs. William (Margaret Norton)  female  39.0       0      5   \n",
       "886                     Montvila, Rev. Juozas    male  27.0       0      0   \n",
       "888  Johnston, Miss. Catherine Helen \"Carrie\"  female  -1.0       1      2   \n",
       "890                       Dooley, Mr. Patrick    male  32.0       0      0   \n",
       "\n",
       "               ticket     fare cabin embarked  \n",
       "0           A/5 21171   7.2500   NaN        S  \n",
       "2    STON/O2. 3101282   7.9250   NaN        S  \n",
       "4              373450   8.0500   NaN        S  \n",
       "5              330877   8.4583   NaN        Q  \n",
       "7              349909  21.0750   NaN        S  \n",
       "..                ...      ...   ...      ...  \n",
       "884   SOTON/OQ 392076   7.0500   NaN        S  \n",
       "885            382652  29.1250   NaN        Q  \n",
       "886            211536  13.0000   NaN        S  \n",
       "888        W./C. 6607  23.4500   NaN        S  \n",
       "890            370376   7.7500   NaN        Q  \n",
       "\n",
       "[687 rows x 12 columns]"
      ]
     },
     "execution_count": 11,
     "metadata": {},
     "output_type": "execute_result"
    }
   ],
   "source": [
    "cabin_missing = train_data[train_data['cabin'].isna()]\n",
    "cabin_missing"
   ]
  },
  {
   "cell_type": "code",
   "execution_count": 12,
   "id": "b54a9363",
   "metadata": {
    "execution": {
     "iopub.execute_input": "2025-02-20T11:19:35.594779Z",
     "iopub.status.busy": "2025-02-20T11:19:35.594423Z",
     "iopub.status.idle": "2025-02-20T11:19:35.603022Z",
     "shell.execute_reply": "2025-02-20T11:19:35.601835Z"
    },
    "id": "7f607be0",
    "outputId": "655a38fd-91f1-4b54-81dd-77845679b714",
    "papermill": {
     "duration": 0.028466,
     "end_time": "2025-02-20T11:19:35.604975",
     "exception": false,
     "start_time": "2025-02-20T11:19:35.576509",
     "status": "completed"
    },
    "tags": []
   },
   "outputs": [
    {
     "data": {
      "text/plain": [
       "p_class\n",
       "1    0.058224\n",
       "2    0.244541\n",
       "3    0.697234\n",
       "Name: passenger_id, dtype: float64"
      ]
     },
     "execution_count": 12,
     "metadata": {},
     "output_type": "execute_result"
    }
   ],
   "source": [
    "cabin_missing.groupby('p_class')['passenger_id'].count()/len(cabin_missing)"
   ]
  },
  {
   "cell_type": "markdown",
   "id": "90ecfb77",
   "metadata": {
    "id": "44aacbb8",
    "papermill": {
     "duration": 0.016722,
     "end_time": "2025-02-20T11:19:35.638919",
     "exception": false,
     "start_time": "2025-02-20T11:19:35.622197",
     "status": "completed"
    },
    "tags": []
   },
   "source": [
    "It seems these missing values can be connected with the class of passenger. Most of people without specifies age were passengers of `'class 3'` (~70%).\n",
    "So we will fill missing values in age with `'not stated'`. The third class is the cheapest and that is why data could be lost."
   ]
  },
  {
   "cell_type": "code",
   "execution_count": 13,
   "id": "c077115e",
   "metadata": {
    "execution": {
     "iopub.execute_input": "2025-02-20T11:19:35.674106Z",
     "iopub.status.busy": "2025-02-20T11:19:35.673695Z",
     "iopub.status.idle": "2025-02-20T11:19:35.680258Z",
     "shell.execute_reply": "2025-02-20T11:19:35.679257Z"
    },
    "id": "e4e36677",
    "papermill": {
     "duration": 0.026105,
     "end_time": "2025-02-20T11:19:35.682086",
     "exception": false,
     "start_time": "2025-02-20T11:19:35.655981",
     "status": "completed"
    },
    "tags": []
   },
   "outputs": [],
   "source": [
    "for df in [train_data, test_data]:\n",
    "    df['cabin'] = df['cabin'].fillna('not_stated')"
   ]
  },
  {
   "cell_type": "markdown",
   "id": "9faec4bd",
   "metadata": {
    "id": "4879d997",
    "papermill": {
     "duration": 0.017371,
     "end_time": "2025-02-20T11:19:35.716741",
     "exception": false,
     "start_time": "2025-02-20T11:19:35.699370",
     "status": "completed"
    },
    "tags": []
   },
   "source": [
    "#### embarked"
   ]
  },
  {
   "cell_type": "code",
   "execution_count": 14,
   "id": "801902d8",
   "metadata": {
    "execution": {
     "iopub.execute_input": "2025-02-20T11:19:35.752757Z",
     "iopub.status.busy": "2025-02-20T11:19:35.752388Z",
     "iopub.status.idle": "2025-02-20T11:19:35.766758Z",
     "shell.execute_reply": "2025-02-20T11:19:35.765739Z"
    },
    "id": "cd505375",
    "outputId": "40db24e4-2821-4db8-ea72-2fdfd4a3ce9c",
    "papermill": {
     "duration": 0.034949,
     "end_time": "2025-02-20T11:19:35.768988",
     "exception": false,
     "start_time": "2025-02-20T11:19:35.734039",
     "status": "completed"
    },
    "tags": []
   },
   "outputs": [
    {
     "data": {
      "text/html": [
       "<div>\n",
       "<style scoped>\n",
       "    .dataframe tbody tr th:only-of-type {\n",
       "        vertical-align: middle;\n",
       "    }\n",
       "\n",
       "    .dataframe tbody tr th {\n",
       "        vertical-align: top;\n",
       "    }\n",
       "\n",
       "    .dataframe thead th {\n",
       "        text-align: right;\n",
       "    }\n",
       "</style>\n",
       "<table border=\"1\" class=\"dataframe\">\n",
       "  <thead>\n",
       "    <tr style=\"text-align: right;\">\n",
       "      <th></th>\n",
       "      <th>passenger_id</th>\n",
       "      <th>survived</th>\n",
       "      <th>p_class</th>\n",
       "      <th>name</th>\n",
       "      <th>sex</th>\n",
       "      <th>age</th>\n",
       "      <th>sib_sp</th>\n",
       "      <th>parch</th>\n",
       "      <th>ticket</th>\n",
       "      <th>fare</th>\n",
       "      <th>cabin</th>\n",
       "      <th>embarked</th>\n",
       "    </tr>\n",
       "  </thead>\n",
       "  <tbody>\n",
       "    <tr>\n",
       "      <th>61</th>\n",
       "      <td>62</td>\n",
       "      <td>1</td>\n",
       "      <td>1</td>\n",
       "      <td>Icard, Miss. Amelie</td>\n",
       "      <td>female</td>\n",
       "      <td>38.0</td>\n",
       "      <td>0</td>\n",
       "      <td>0</td>\n",
       "      <td>113572</td>\n",
       "      <td>80.0</td>\n",
       "      <td>B28</td>\n",
       "      <td>NaN</td>\n",
       "    </tr>\n",
       "    <tr>\n",
       "      <th>829</th>\n",
       "      <td>830</td>\n",
       "      <td>1</td>\n",
       "      <td>1</td>\n",
       "      <td>Stone, Mrs. George Nelson (Martha Evelyn)</td>\n",
       "      <td>female</td>\n",
       "      <td>62.0</td>\n",
       "      <td>0</td>\n",
       "      <td>0</td>\n",
       "      <td>113572</td>\n",
       "      <td>80.0</td>\n",
       "      <td>B28</td>\n",
       "      <td>NaN</td>\n",
       "    </tr>\n",
       "  </tbody>\n",
       "</table>\n",
       "</div>"
      ],
      "text/plain": [
       "     passenger_id  survived  p_class  \\\n",
       "61             62         1        1   \n",
       "829           830         1        1   \n",
       "\n",
       "                                          name     sex   age  sib_sp  parch  \\\n",
       "61                         Icard, Miss. Amelie  female  38.0       0      0   \n",
       "829  Stone, Mrs. George Nelson (Martha Evelyn)  female  62.0       0      0   \n",
       "\n",
       "     ticket  fare cabin embarked  \n",
       "61   113572  80.0   B28      NaN  \n",
       "829  113572  80.0   B28      NaN  "
      ]
     },
     "execution_count": 14,
     "metadata": {},
     "output_type": "execute_result"
    }
   ],
   "source": [
    "train_data[train_data['embarked'].isna()]"
   ]
  },
  {
   "cell_type": "markdown",
   "id": "5173f7e0",
   "metadata": {
    "id": "cfcb54bf",
    "papermill": {
     "duration": 0.01689,
     "end_time": "2025-02-20T11:19:35.805093",
     "exception": false,
     "start_time": "2025-02-20T11:19:35.788203",
     "status": "completed"
    },
    "tags": []
   },
   "source": [
    "It seems these missing values are missing at random. We will fill it with the port where most of people with 1st class embarked."
   ]
  },
  {
   "cell_type": "code",
   "execution_count": 15,
   "id": "93521e6f",
   "metadata": {
    "execution": {
     "iopub.execute_input": "2025-02-20T11:19:35.842330Z",
     "iopub.status.busy": "2025-02-20T11:19:35.841907Z",
     "iopub.status.idle": "2025-02-20T11:19:35.851090Z",
     "shell.execute_reply": "2025-02-20T11:19:35.850202Z"
    },
    "id": "ea9f0d31",
    "outputId": "4c6f801d-38ee-4ff4-e8f1-7d9cf966c390",
    "papermill": {
     "duration": 0.029926,
     "end_time": "2025-02-20T11:19:35.852783",
     "exception": false,
     "start_time": "2025-02-20T11:19:35.822857",
     "status": "completed"
    },
    "tags": []
   },
   "outputs": [
    {
     "data": {
      "text/plain": [
       "embarked\n",
       "C     85\n",
       "Q      2\n",
       "S    127\n",
       "Name: p_class, dtype: int64"
      ]
     },
     "execution_count": 15,
     "metadata": {},
     "output_type": "execute_result"
    }
   ],
   "source": [
    "train_data[train_data['p_class'] == 1].groupby('embarked')['p_class'].count()"
   ]
  },
  {
   "cell_type": "code",
   "execution_count": 16,
   "id": "02eb5e42",
   "metadata": {
    "execution": {
     "iopub.execute_input": "2025-02-20T11:19:35.888925Z",
     "iopub.status.busy": "2025-02-20T11:19:35.888461Z",
     "iopub.status.idle": "2025-02-20T11:19:35.894053Z",
     "shell.execute_reply": "2025-02-20T11:19:35.893022Z"
    },
    "id": "1c6df300",
    "papermill": {
     "duration": 0.025785,
     "end_time": "2025-02-20T11:19:35.895996",
     "exception": false,
     "start_time": "2025-02-20T11:19:35.870211",
     "status": "completed"
    },
    "tags": []
   },
   "outputs": [],
   "source": [
    "train_data['embarked'] = train_data['embarked'].fillna('S')"
   ]
  },
  {
   "cell_type": "markdown",
   "id": "34e1ebcf",
   "metadata": {
    "id": "f6514210",
    "papermill": {
     "duration": 0.017117,
     "end_time": "2025-02-20T11:19:35.930859",
     "exception": false,
     "start_time": "2025-02-20T11:19:35.913742",
     "status": "completed"
    },
    "tags": []
   },
   "source": [
    "#### fare"
   ]
  },
  {
   "cell_type": "code",
   "execution_count": 17,
   "id": "fa458015",
   "metadata": {
    "execution": {
     "iopub.execute_input": "2025-02-20T11:19:35.967925Z",
     "iopub.status.busy": "2025-02-20T11:19:35.967539Z",
     "iopub.status.idle": "2025-02-20T11:19:35.982193Z",
     "shell.execute_reply": "2025-02-20T11:19:35.980695Z"
    },
    "id": "abaee141",
    "outputId": "57fbfc65-26ac-4591-8c30-1f108f3690da",
    "papermill": {
     "duration": 0.035445,
     "end_time": "2025-02-20T11:19:35.984009",
     "exception": false,
     "start_time": "2025-02-20T11:19:35.948564",
     "status": "completed"
    },
    "tags": []
   },
   "outputs": [
    {
     "name": "stderr",
     "output_type": "stream",
     "text": [
      "/usr/local/lib/python3.10/dist-packages/pandas/io/formats/format.py:1458: RuntimeWarning: invalid value encountered in greater\n",
      "  has_large_values = (abs_vals > 1e6).any()\n",
      "/usr/local/lib/python3.10/dist-packages/pandas/io/formats/format.py:1459: RuntimeWarning: invalid value encountered in less\n",
      "  has_small_values = ((abs_vals < 10 ** (-self.digits)) & (abs_vals > 0)).any()\n",
      "/usr/local/lib/python3.10/dist-packages/pandas/io/formats/format.py:1459: RuntimeWarning: invalid value encountered in greater\n",
      "  has_small_values = ((abs_vals < 10 ** (-self.digits)) & (abs_vals > 0)).any()\n"
     ]
    },
    {
     "data": {
      "text/html": [
       "<div>\n",
       "<style scoped>\n",
       "    .dataframe tbody tr th:only-of-type {\n",
       "        vertical-align: middle;\n",
       "    }\n",
       "\n",
       "    .dataframe tbody tr th {\n",
       "        vertical-align: top;\n",
       "    }\n",
       "\n",
       "    .dataframe thead th {\n",
       "        text-align: right;\n",
       "    }\n",
       "</style>\n",
       "<table border=\"1\" class=\"dataframe\">\n",
       "  <thead>\n",
       "    <tr style=\"text-align: right;\">\n",
       "      <th></th>\n",
       "      <th>passenger_id</th>\n",
       "      <th>p_class</th>\n",
       "      <th>name</th>\n",
       "      <th>sex</th>\n",
       "      <th>age</th>\n",
       "      <th>sib_sp</th>\n",
       "      <th>parch</th>\n",
       "      <th>ticket</th>\n",
       "      <th>fare</th>\n",
       "      <th>cabin</th>\n",
       "      <th>embarked</th>\n",
       "    </tr>\n",
       "  </thead>\n",
       "  <tbody>\n",
       "    <tr>\n",
       "      <th>152</th>\n",
       "      <td>1044</td>\n",
       "      <td>3</td>\n",
       "      <td>Storey, Mr. Thomas</td>\n",
       "      <td>male</td>\n",
       "      <td>60.5</td>\n",
       "      <td>0</td>\n",
       "      <td>0</td>\n",
       "      <td>3701</td>\n",
       "      <td>NaN</td>\n",
       "      <td>not_stated</td>\n",
       "      <td>S</td>\n",
       "    </tr>\n",
       "  </tbody>\n",
       "</table>\n",
       "</div>"
      ],
      "text/plain": [
       "     passenger_id  p_class                name   sex   age  sib_sp  parch  \\\n",
       "152          1044        3  Storey, Mr. Thomas  male  60.5       0      0   \n",
       "\n",
       "    ticket  fare       cabin embarked  \n",
       "152   3701   NaN  not_stated        S  "
      ]
     },
     "execution_count": 17,
     "metadata": {},
     "output_type": "execute_result"
    }
   ],
   "source": [
    "test_data[test_data['fare'].isna()]"
   ]
  },
  {
   "cell_type": "markdown",
   "id": "e1d3e4d4",
   "metadata": {
    "id": "2c0b2dc0",
    "papermill": {
     "duration": 0.017511,
     "end_time": "2025-02-20T11:19:36.019273",
     "exception": false,
     "start_time": "2025-02-20T11:19:36.001762",
     "status": "completed"
    },
    "tags": []
   },
   "source": [
    "The `'fare'` depends on p_class, so we can fill this missing value with the mode of 'fare' of train_data."
   ]
  },
  {
   "cell_type": "code",
   "execution_count": 18,
   "id": "a86f2d3b",
   "metadata": {
    "execution": {
     "iopub.execute_input": "2025-02-20T11:19:36.056102Z",
     "iopub.status.busy": "2025-02-20T11:19:36.055733Z",
     "iopub.status.idle": "2025-02-20T11:19:36.066739Z",
     "shell.execute_reply": "2025-02-20T11:19:36.065496Z"
    },
    "id": "8dd8499c",
    "outputId": "09e09085-fdfb-4204-fb84-dde8142a363f",
    "papermill": {
     "duration": 0.031411,
     "end_time": "2025-02-20T11:19:36.068564",
     "exception": false,
     "start_time": "2025-02-20T11:19:36.037153",
     "status": "completed"
    },
    "tags": []
   },
   "outputs": [
    {
     "data": {
      "text/plain": [
       "0    8.05\n",
       "Name: fare, dtype: float64"
      ]
     },
     "execution_count": 18,
     "metadata": {},
     "output_type": "execute_result"
    }
   ],
   "source": [
    "train_data[train_data['p_class'] == 3]['fare'].mode()"
   ]
  },
  {
   "cell_type": "code",
   "execution_count": 19,
   "id": "86930b3e",
   "metadata": {
    "execution": {
     "iopub.execute_input": "2025-02-20T11:19:36.105555Z",
     "iopub.status.busy": "2025-02-20T11:19:36.105085Z",
     "iopub.status.idle": "2025-02-20T11:19:36.110667Z",
     "shell.execute_reply": "2025-02-20T11:19:36.109250Z"
    },
    "id": "28ee3dc7",
    "papermill": {
     "duration": 0.02609,
     "end_time": "2025-02-20T11:19:36.112544",
     "exception": false,
     "start_time": "2025-02-20T11:19:36.086454",
     "status": "completed"
    },
    "tags": []
   },
   "outputs": [],
   "source": [
    "test_data['fare'] = test_data['fare'].fillna(8.05)"
   ]
  },
  {
   "cell_type": "markdown",
   "id": "78474907",
   "metadata": {
    "id": "8467f2a2",
    "papermill": {
     "duration": 0.019258,
     "end_time": "2025-02-20T11:19:36.150416",
     "exception": false,
     "start_time": "2025-02-20T11:19:36.131158",
     "status": "completed"
    },
    "tags": []
   },
   "source": [
    "Check if we cleared all the missing values."
   ]
  },
  {
   "cell_type": "code",
   "execution_count": 20,
   "id": "23852438",
   "metadata": {
    "execution": {
     "iopub.execute_input": "2025-02-20T11:19:36.188849Z",
     "iopub.status.busy": "2025-02-20T11:19:36.188473Z",
     "iopub.status.idle": "2025-02-20T11:19:36.199510Z",
     "shell.execute_reply": "2025-02-20T11:19:36.198294Z"
    },
    "id": "e8512453",
    "outputId": "a4603dd3-2dae-4986-8133-677fecf687be",
    "papermill": {
     "duration": 0.033196,
     "end_time": "2025-02-20T11:19:36.201596",
     "exception": false,
     "start_time": "2025-02-20T11:19:36.168400",
     "status": "completed"
    },
    "tags": []
   },
   "outputs": [
    {
     "data": {
      "text/plain": [
       "0"
      ]
     },
     "metadata": {},
     "output_type": "display_data"
    },
    {
     "data": {
      "text/plain": [
       "0"
      ]
     },
     "metadata": {},
     "output_type": "display_data"
    }
   ],
   "source": [
    "for df in [train_data, test_data]:\n",
    "    display(df.isna().sum().sum())"
   ]
  },
  {
   "cell_type": "markdown",
   "id": "af1b725a",
   "metadata": {
    "id": "b0c44324",
    "papermill": {
     "duration": 0.017793,
     "end_time": "2025-02-20T11:19:36.237365",
     "exception": false,
     "start_time": "2025-02-20T11:19:36.219572",
     "status": "completed"
    },
    "tags": []
   },
   "source": [
    "**Conclusion:** Missing values are filled."
   ]
  },
  {
   "cell_type": "markdown",
   "id": "01f6b402",
   "metadata": {
    "id": "d765f4e0",
    "papermill": {
     "duration": 0.017526,
     "end_time": "2025-02-20T11:19:36.273313",
     "exception": false,
     "start_time": "2025-02-20T11:19:36.255787",
     "status": "completed"
    },
    "tags": []
   },
   "source": [
    "### Duplicated\n",
    "\n",
    "We will check if there are duplicated data in datasets."
   ]
  },
  {
   "cell_type": "code",
   "execution_count": 21,
   "id": "d8b0f648",
   "metadata": {
    "execution": {
     "iopub.execute_input": "2025-02-20T11:19:36.310707Z",
     "iopub.status.busy": "2025-02-20T11:19:36.310335Z",
     "iopub.status.idle": "2025-02-20T11:19:36.322058Z",
     "shell.execute_reply": "2025-02-20T11:19:36.320595Z"
    },
    "id": "26211dcc",
    "outputId": "7552c87d-7513-4642-d084-a8ff5bd69fa6",
    "papermill": {
     "duration": 0.033051,
     "end_time": "2025-02-20T11:19:36.324052",
     "exception": false,
     "start_time": "2025-02-20T11:19:36.291001",
     "status": "completed"
    },
    "tags": []
   },
   "outputs": [
    {
     "name": "stdout",
     "output_type": "stream",
     "text": [
      "0\n",
      "0\n"
     ]
    }
   ],
   "source": [
    "for df in [train_data, test_data]:\n",
    "    print(df.duplicated().sum())"
   ]
  },
  {
   "cell_type": "markdown",
   "id": "96da6ba2",
   "metadata": {
    "id": "0dc3ffbf",
    "papermill": {
     "duration": 0.018083,
     "end_time": "2025-02-20T11:19:36.360607",
     "exception": false,
     "start_time": "2025-02-20T11:19:36.342524",
     "status": "completed"
    },
    "tags": []
   },
   "source": [
    "There are no duplucates in datasets."
   ]
  },
  {
   "cell_type": "markdown",
   "id": "6f6dc39e",
   "metadata": {
    "id": "6baede95",
    "papermill": {
     "duration": 0.018628,
     "end_time": "2025-02-20T11:19:36.397945",
     "exception": false,
     "start_time": "2025-02-20T11:19:36.379317",
     "status": "completed"
    },
    "tags": []
   },
   "source": [
    "### Pre-processing conclusion\n",
    "- Missing values are cleared\n",
    "- There are no duplicates in datasets"
   ]
  },
  {
   "cell_type": "markdown",
   "id": "dc712151",
   "metadata": {
    "id": "8871ec13",
    "papermill": {
     "duration": 0.018938,
     "end_time": "2025-02-20T11:19:36.435395",
     "exception": false,
     "start_time": "2025-02-20T11:19:36.416457",
     "status": "completed"
    },
    "tags": []
   },
   "source": [
    "## EDA\n",
    "\n",
    "We will examine the distribution of features detect anomalies and outliers."
   ]
  },
  {
   "cell_type": "markdown",
   "id": "8c368fb5",
   "metadata": {
    "id": "888607f6",
    "papermill": {
     "duration": 0.018053,
     "end_time": "2025-02-20T11:19:36.472606",
     "exception": false,
     "start_time": "2025-02-20T11:19:36.454553",
     "status": "completed"
    },
    "tags": []
   },
   "source": [
    "### Input features\n",
    "\n",
    "We will analyse features' distributions using functions."
   ]
  },
  {
   "cell_type": "code",
   "execution_count": 22,
   "id": "35fd95c3",
   "metadata": {
    "execution": {
     "iopub.execute_input": "2025-02-20T11:19:36.510670Z",
     "iopub.status.busy": "2025-02-20T11:19:36.510283Z",
     "iopub.status.idle": "2025-02-20T11:19:36.517447Z",
     "shell.execute_reply": "2025-02-20T11:19:36.516252Z"
    },
    "id": "b4701d29",
    "papermill": {
     "duration": 0.028551,
     "end_time": "2025-02-20T11:19:36.519523",
     "exception": false,
     "start_time": "2025-02-20T11:19:36.490972",
     "status": "completed"
    },
    "tags": []
   },
   "outputs": [],
   "source": [
    "# Function will be used to display feature distribution as a bar chart\n",
    "# feature_name_string: name of the feature displayed at the axis\n",
    "# group_1, group_2: DataFrame, groups compared at chart\n",
    "def display_bar(feature, feature_name_string, group_1=train_data, group_2=test_data):\n",
    "    ax = plt.gca()\n",
    "    data_1 = (group_1\n",
    "             .pivot_table(index=feature, values='passenger_id', aggfunc='count')\n",
    "             .reset_index().sort_values(by='passenger_id'))\n",
    "    data_2 = (group_2\n",
    "            .pivot_table(index=feature, values='passenger_id', aggfunc='count')\n",
    "            .reset_index().sort_values(by='passenger_id'))\n",
    "    data_1.plot(kind='barh', y='passenger_id', x=feature,\n",
    "               legend=False, color='b', alpha=0.5, ax=ax)\n",
    "    data_2.plot(kind='barh', y='passenger_id', x=feature,\n",
    "              legend=False, color='g', alpha=0.5, ax=ax)\n",
    "    plt.title(f'{feature_name_string} distribution')\n",
    "    plt.ylabel('Frequency')\n",
    "    plt.show()"
   ]
  },
  {
   "cell_type": "code",
   "execution_count": 23,
   "id": "28f48d75",
   "metadata": {
    "execution": {
     "iopub.execute_input": "2025-02-20T11:19:36.557443Z",
     "iopub.status.busy": "2025-02-20T11:19:36.556946Z",
     "iopub.status.idle": "2025-02-20T11:19:36.563451Z",
     "shell.execute_reply": "2025-02-20T11:19:36.562248Z"
    },
    "id": "c9efffc0",
    "papermill": {
     "duration": 0.027507,
     "end_time": "2025-02-20T11:19:36.565637",
     "exception": false,
     "start_time": "2025-02-20T11:19:36.538130",
     "status": "completed"
    },
    "tags": []
   },
   "outputs": [],
   "source": [
    "# Function will be used to display feature distribution as a histogram\n",
    "# feature_name_string: name of the feature displayed at the axis\n",
    "# group_1, group_2: DataFrame, groups compared at chart\n",
    "def display_hist(feature, feature_name_string, group_1=train_data, group_2=test_data, bins=30):\n",
    "    ax = plt.gca()\n",
    "    group_1[feature].plot(kind='hist', y=feature, bins=bins, color='b', alpha=0.5, ax=ax)\n",
    "    group_2[feature].plot(kind='hist', y=feature, bins=bins, color='g', alpha=0.5, ax=ax)\n",
    "    plt.title(f'{feature_name_string} distribution')\n",
    "    plt.ylabel('Frequency')\n",
    "    plt.show()\n",
    "    print(df[feature].describe())"
   ]
  },
  {
   "cell_type": "code",
   "execution_count": 24,
   "id": "be416109",
   "metadata": {
    "execution": {
     "iopub.execute_input": "2025-02-20T11:19:36.603445Z",
     "iopub.status.busy": "2025-02-20T11:19:36.603017Z",
     "iopub.status.idle": "2025-02-20T11:19:36.608536Z",
     "shell.execute_reply": "2025-02-20T11:19:36.607146Z"
    },
    "id": "71998023",
    "papermill": {
     "duration": 0.026655,
     "end_time": "2025-02-20T11:19:36.610401",
     "exception": false,
     "start_time": "2025-02-20T11:19:36.583746",
     "status": "completed"
    },
    "tags": []
   },
   "outputs": [],
   "source": [
    "# Function will be used to display feature distribution as a pie chart\n",
    "# feature_name_string: name of the feature displayed at the axis\n",
    "def display_pie_chart(feature, feature_name_string, data=train_data):\n",
    "    (data.pivot_table(index=feature, values='passenger_id', aggfunc='count').plot(\n",
    "        y='passenger_id', kind='pie', legend=False, autopct='%1.0f%%')\n",
    "    )\n",
    "    plt.title(feature_name_string)\n",
    "    plt.ylabel('')\n",
    "    plt.show()"
   ]
  },
  {
   "cell_type": "code",
   "execution_count": 25,
   "id": "1a0e310b",
   "metadata": {
    "execution": {
     "iopub.execute_input": "2025-02-20T11:19:36.648832Z",
     "iopub.status.busy": "2025-02-20T11:19:36.648479Z",
     "iopub.status.idle": "2025-02-20T11:19:37.084438Z",
     "shell.execute_reply": "2025-02-20T11:19:37.083310Z"
    },
    "id": "1aad1798",
    "outputId": "e70db5a9-22a7-4342-fd75-089dd438cf3b",
    "papermill": {
     "duration": 0.456949,
     "end_time": "2025-02-20T11:19:37.086428",
     "exception": false,
     "start_time": "2025-02-20T11:19:36.629479",
     "status": "completed"
    },
    "tags": []
   },
   "outputs": [
    {
     "data": {
      "image/png": "[encoded data removed]",
      "text/plain": [
       "<Figure size 640x480 with 1 Axes>"
      ]
     },
     "metadata": {},
     "output_type": "display_data"
    }
   ],
   "source": [
    "display_bar('p_class', 'Ticket class')"
   ]
  },
  {
   "cell_type": "markdown",
   "id": "12bd4aae",
   "metadata": {
    "id": "d06b0dc9",
    "papermill": {
     "duration": 0.01781,
     "end_time": "2025-02-20T11:19:37.123068",
     "exception": false,
     "start_time": "2025-02-20T11:19:37.105258",
     "status": "completed"
    },
    "tags": []
   },
   "source": [
    "#### Ticket class\n",
    "- The most frequent class is 3: there are around 50% of all tickets\n",
    "- 1 and 2 classes are approximately equal in frequency and there are about 25% for each class\n",
    "- Disctributions are equal in train and test datasets"
   ]
  },
  {
   "cell_type": "code",
   "execution_count": 26,
   "id": "574dee84",
   "metadata": {
    "execution": {
     "iopub.execute_input": "2025-02-20T11:19:37.162280Z",
     "iopub.status.busy": "2025-02-20T11:19:37.161647Z",
     "iopub.status.idle": "2025-02-20T11:19:37.383792Z",
     "shell.execute_reply": "2025-02-20T11:19:37.382481Z"
    },
    "id": "ca2d1278",
    "outputId": "428ae95b-b870-465b-849e-91d9c7bb163f",
    "papermill": {
     "duration": 0.243642,
     "end_time": "2025-02-20T11:19:37.385737",
     "exception": false,
     "start_time": "2025-02-20T11:19:37.142095",
     "status": "completed"
    },
    "tags": []
   },
   "outputs": [
    {
     "data": {
      "image/png": "[encoded data removed]",
      "text/plain": [
       "<Figure size 640x480 with 1 Axes>"
      ]
     },
     "metadata": {},
     "output_type": "display_data"
    }
   ],
   "source": [
    "display_bar('sib_sp', 'Number of siblings / spouses aboard the Titanic')"
   ]
  },
  {
   "cell_type": "markdown",
   "id": "400e2594",
   "metadata": {
    "id": "71b86ab5",
    "papermill": {
     "duration": 0.018581,
     "end_time": "2025-02-20T11:19:37.423901",
     "exception": false,
     "start_time": "2025-02-20T11:19:37.405320",
     "status": "completed"
    },
    "tags": []
   },
   "source": [
    "#### Number of siblings / spouses aboard the Titanic\n",
    "- Most of passengers had 0 siblings and spouses aboard (about 66%). The next category is people who had 1 sibling or a spouse aboard (about 25%). The rest people (<10%) had 2 or more.\n",
    "- Disctributions are equal in train and test datasets"
   ]
  },
  {
   "cell_type": "code",
   "execution_count": 27,
   "id": "fab14450",
   "metadata": {
    "execution": {
     "iopub.execute_input": "2025-02-20T11:19:37.465108Z",
     "iopub.status.busy": "2025-02-20T11:19:37.464696Z",
     "iopub.status.idle": "2025-02-20T11:19:37.692213Z",
     "shell.execute_reply": "2025-02-20T11:19:37.690896Z"
    },
    "id": "e7048365",
    "outputId": "802cc26d-7588-4799-8b9c-cb1a6074af34",
    "papermill": {
     "duration": 0.249669,
     "end_time": "2025-02-20T11:19:37.694163",
     "exception": false,
     "start_time": "2025-02-20T11:19:37.444494",
     "status": "completed"
    },
    "tags": []
   },
   "outputs": [
    {
     "data": {
      "image/png": "[encoded data removed]",
      "text/plain": [
       "<Figure size 640x480 with 1 Axes>"
      ]
     },
     "metadata": {},
     "output_type": "display_data"
    }
   ],
   "source": [
    "display_bar('parch', 'Number of parents / children aboard the Titanic')"
   ]
  },
  {
   "cell_type": "markdown",
   "id": "5241c2d4",
   "metadata": {
    "id": "4ed82bd3",
    "papermill": {
     "duration": 0.019205,
     "end_time": "2025-02-20T11:19:37.732532",
     "exception": false,
     "start_time": "2025-02-20T11:19:37.713327",
     "status": "completed"
    },
    "tags": []
   },
   "source": [
    "#### Number of parents / children aboard the Titanic\n",
    "- Most of passengers had 1-2 siblings and spouses aboard (about 90%). The rest people (about 10%) had 2 or more\n",
    "- The test dataset includes passengers with 0 parents/children aboard **unlike the train dataset, where there are no such people**"
   ]
  },
  {
   "cell_type": "code",
   "execution_count": 28,
   "id": "4dfcb218",
   "metadata": {
    "execution": {
     "iopub.execute_input": "2025-02-20T11:19:37.773392Z",
     "iopub.status.busy": "2025-02-20T11:19:37.772963Z",
     "iopub.status.idle": "2025-02-20T11:19:38.092371Z",
     "shell.execute_reply": "2025-02-20T11:19:38.091150Z"
    },
    "id": "cd8ae640",
    "outputId": "651d3e8b-ead5-482d-843a-90a0fb49b1c1",
    "papermill": {
     "duration": 0.342188,
     "end_time": "2025-02-20T11:19:38.094205",
     "exception": false,
     "start_time": "2025-02-20T11:19:37.752017",
     "status": "completed"
    },
    "tags": []
   },
   "outputs": [
    {
     "data": {
      "image/png": "[encoded data removed]",
      "text/plain": [
       "<Figure size 640x480 with 1 Axes>"
      ]
     },
     "metadata": {},
     "output_type": "display_data"
    },
    {
     "name": "stdout",
     "output_type": "stream",
     "text": [
      "count    418.000000\n",
      "mean      23.838517\n",
      "std       17.883723\n",
      "min       -1.000000\n",
      "25%        9.000000\n",
      "50%       24.000000\n",
      "75%       35.750000\n",
      "max       76.000000\n",
      "Name: age, dtype: float64\n"
     ]
    }
   ],
   "source": [
    "display_hist('age', 'Age')"
   ]
  },
  {
   "cell_type": "markdown",
   "id": "51079cc5",
   "metadata": {
    "id": "d70ba075",
    "papermill": {
     "duration": 0.01925,
     "end_time": "2025-02-20T11:19:38.133736",
     "exception": false,
     "start_time": "2025-02-20T11:19:38.114486",
     "status": "completed"
    },
    "tags": []
   },
   "source": [
    "#### Age\n",
    "- Distribution is not normal, median 24, mean about 24. There is a peak at -1 and this value is set instead of `'not stated'`, so this is not an outlier."
   ]
  },
  {
   "cell_type": "code",
   "execution_count": 29,
   "id": "849d42b4",
   "metadata": {
    "execution": {
     "iopub.execute_input": "2025-02-20T11:19:38.173927Z",
     "iopub.status.busy": "2025-02-20T11:19:38.173520Z",
     "iopub.status.idle": "2025-02-20T11:19:38.502726Z",
     "shell.execute_reply": "2025-02-20T11:19:38.501613Z"
    },
    "id": "2dcde6eb",
    "outputId": "dcee954f-932f-4d82-df2a-2f0a20f0b967",
    "papermill": {
     "duration": 0.351539,
     "end_time": "2025-02-20T11:19:38.504661",
     "exception": false,
     "start_time": "2025-02-20T11:19:38.153122",
     "status": "completed"
    },
    "tags": []
   },
   "outputs": [
    {
     "data": {
      "image/png": "[encoded data removed]",
      "text/plain": [
       "<Figure size 640x480 with 1 Axes>"
      ]
     },
     "metadata": {},
     "output_type": "display_data"
    },
    {
     "name": "stdout",
     "output_type": "stream",
     "text": [
      "count    418.000000\n",
      "mean      35.561214\n",
      "std       55.856789\n",
      "min        0.000000\n",
      "25%        7.895800\n",
      "50%       14.454200\n",
      "75%       31.471875\n",
      "max      512.329200\n",
      "Name: fare, dtype: float64\n"
     ]
    }
   ],
   "source": [
    "display_hist('fare', 'Fare', bins=40)"
   ]
  },
  {
   "cell_type": "markdown",
   "id": "e3a26655",
   "metadata": {
    "id": "bc526fe6",
    "papermill": {
     "duration": 0.02007,
     "end_time": "2025-02-20T11:19:38.545616",
     "exception": false,
     "start_time": "2025-02-20T11:19:38.525546",
     "status": "completed"
    },
    "tags": []
   },
   "source": [
    "Fare distribution does not seem like a normal distribution and there is a peak at about 0."
   ]
  },
  {
   "cell_type": "code",
   "execution_count": 30,
   "id": "f828ee67",
   "metadata": {
    "execution": {
     "iopub.execute_input": "2025-02-20T11:19:38.589856Z",
     "iopub.status.busy": "2025-02-20T11:19:38.589451Z",
     "iopub.status.idle": "2025-02-20T11:19:38.608276Z",
     "shell.execute_reply": "2025-02-20T11:19:38.607223Z"
    },
    "id": "17c1b393",
    "outputId": "18b86a9f-f08f-4523-ab7a-864a8e2f3f5d",
    "papermill": {
     "duration": 0.04388,
     "end_time": "2025-02-20T11:19:38.610083",
     "exception": false,
     "start_time": "2025-02-20T11:19:38.566203",
     "status": "completed"
    },
    "tags": []
   },
   "outputs": [
    {
     "data": {
      "text/html": [
       "<div>\n",
       "<style scoped>\n",
       "    .dataframe tbody tr th:only-of-type {\n",
       "        vertical-align: middle;\n",
       "    }\n",
       "\n",
       "    .dataframe tbody tr th {\n",
       "        vertical-align: top;\n",
       "    }\n",
       "\n",
       "    .dataframe thead th {\n",
       "        text-align: right;\n",
       "    }\n",
       "</style>\n",
       "<table border=\"1\" class=\"dataframe\">\n",
       "  <thead>\n",
       "    <tr style=\"text-align: right;\">\n",
       "      <th></th>\n",
       "      <th>passenger_id</th>\n",
       "      <th>survived</th>\n",
       "      <th>p_class</th>\n",
       "      <th>name</th>\n",
       "      <th>sex</th>\n",
       "      <th>age</th>\n",
       "      <th>sib_sp</th>\n",
       "      <th>parch</th>\n",
       "      <th>ticket</th>\n",
       "      <th>fare</th>\n",
       "      <th>cabin</th>\n",
       "      <th>embarked</th>\n",
       "    </tr>\n",
       "  </thead>\n",
       "  <tbody>\n",
       "    <tr>\n",
       "      <th>179</th>\n",
       "      <td>180</td>\n",
       "      <td>0</td>\n",
       "      <td>3</td>\n",
       "      <td>Leonard, Mr. Lionel</td>\n",
       "      <td>male</td>\n",
       "      <td>36.0</td>\n",
       "      <td>0</td>\n",
       "      <td>0</td>\n",
       "      <td>LINE</td>\n",
       "      <td>0.0</td>\n",
       "      <td>not_stated</td>\n",
       "      <td>S</td>\n",
       "    </tr>\n",
       "    <tr>\n",
       "      <th>263</th>\n",
       "      <td>264</td>\n",
       "      <td>0</td>\n",
       "      <td>1</td>\n",
       "      <td>Harrison, Mr. William</td>\n",
       "      <td>male</td>\n",
       "      <td>40.0</td>\n",
       "      <td>0</td>\n",
       "      <td>0</td>\n",
       "      <td>112059</td>\n",
       "      <td>0.0</td>\n",
       "      <td>B94</td>\n",
       "      <td>S</td>\n",
       "    </tr>\n",
       "    <tr>\n",
       "      <th>271</th>\n",
       "      <td>272</td>\n",
       "      <td>1</td>\n",
       "      <td>3</td>\n",
       "      <td>Tornquist, Mr. William Henry</td>\n",
       "      <td>male</td>\n",
       "      <td>25.0</td>\n",
       "      <td>0</td>\n",
       "      <td>0</td>\n",
       "      <td>LINE</td>\n",
       "      <td>0.0</td>\n",
       "      <td>not_stated</td>\n",
       "      <td>S</td>\n",
       "    </tr>\n",
       "    <tr>\n",
       "      <th>277</th>\n",
       "      <td>278</td>\n",
       "      <td>0</td>\n",
       "      <td>2</td>\n",
       "      <td>Parkes, Mr. Francis \"Frank\"</td>\n",
       "      <td>male</td>\n",
       "      <td>-1.0</td>\n",
       "      <td>0</td>\n",
       "      <td>0</td>\n",
       "      <td>239853</td>\n",
       "      <td>0.0</td>\n",
       "      <td>not_stated</td>\n",
       "      <td>S</td>\n",
       "    </tr>\n",
       "    <tr>\n",
       "      <th>302</th>\n",
       "      <td>303</td>\n",
       "      <td>0</td>\n",
       "      <td>3</td>\n",
       "      <td>Johnson, Mr. William Cahoone Jr</td>\n",
       "      <td>male</td>\n",
       "      <td>19.0</td>\n",
       "      <td>0</td>\n",
       "      <td>0</td>\n",
       "      <td>LINE</td>\n",
       "      <td>0.0</td>\n",
       "      <td>not_stated</td>\n",
       "      <td>S</td>\n",
       "    </tr>\n",
       "    <tr>\n",
       "      <th>413</th>\n",
       "      <td>414</td>\n",
       "      <td>0</td>\n",
       "      <td>2</td>\n",
       "      <td>Cunningham, Mr. Alfred Fleming</td>\n",
       "      <td>male</td>\n",
       "      <td>-1.0</td>\n",
       "      <td>0</td>\n",
       "      <td>0</td>\n",
       "      <td>239853</td>\n",
       "      <td>0.0</td>\n",
       "      <td>not_stated</td>\n",
       "      <td>S</td>\n",
       "    </tr>\n",
       "    <tr>\n",
       "      <th>466</th>\n",
       "      <td>467</td>\n",
       "      <td>0</td>\n",
       "      <td>2</td>\n",
       "      <td>Campbell, Mr. William</td>\n",
       "      <td>male</td>\n",
       "      <td>-1.0</td>\n",
       "      <td>0</td>\n",
       "      <td>0</td>\n",
       "      <td>239853</td>\n",
       "      <td>0.0</td>\n",
       "      <td>not_stated</td>\n",
       "      <td>S</td>\n",
       "    </tr>\n",
       "    <tr>\n",
       "      <th>481</th>\n",
       "      <td>482</td>\n",
       "      <td>0</td>\n",
       "      <td>2</td>\n",
       "      <td>Frost, Mr. Anthony Wood \"Archie\"</td>\n",
       "      <td>male</td>\n",
       "      <td>-1.0</td>\n",
       "      <td>0</td>\n",
       "      <td>0</td>\n",
       "      <td>239854</td>\n",
       "      <td>0.0</td>\n",
       "      <td>not_stated</td>\n",
       "      <td>S</td>\n",
       "    </tr>\n",
       "    <tr>\n",
       "      <th>597</th>\n",
       "      <td>598</td>\n",
       "      <td>0</td>\n",
       "      <td>3</td>\n",
       "      <td>Johnson, Mr. Alfred</td>\n",
       "      <td>male</td>\n",
       "      <td>49.0</td>\n",
       "      <td>0</td>\n",
       "      <td>0</td>\n",
       "      <td>LINE</td>\n",
       "      <td>0.0</td>\n",
       "      <td>not_stated</td>\n",
       "      <td>S</td>\n",
       "    </tr>\n",
       "    <tr>\n",
       "      <th>633</th>\n",
       "      <td>634</td>\n",
       "      <td>0</td>\n",
       "      <td>1</td>\n",
       "      <td>Parr, Mr. William Henry Marsh</td>\n",
       "      <td>male</td>\n",
       "      <td>-1.0</td>\n",
       "      <td>0</td>\n",
       "      <td>0</td>\n",
       "      <td>112052</td>\n",
       "      <td>0.0</td>\n",
       "      <td>not_stated</td>\n",
       "      <td>S</td>\n",
       "    </tr>\n",
       "    <tr>\n",
       "      <th>674</th>\n",
       "      <td>675</td>\n",
       "      <td>0</td>\n",
       "      <td>2</td>\n",
       "      <td>Watson, Mr. Ennis Hastings</td>\n",
       "      <td>male</td>\n",
       "      <td>-1.0</td>\n",
       "      <td>0</td>\n",
       "      <td>0</td>\n",
       "      <td>239856</td>\n",
       "      <td>0.0</td>\n",
       "      <td>not_stated</td>\n",
       "      <td>S</td>\n",
       "    </tr>\n",
       "    <tr>\n",
       "      <th>732</th>\n",
       "      <td>733</td>\n",
       "      <td>0</td>\n",
       "      <td>2</td>\n",
       "      <td>Knight, Mr. Robert J</td>\n",
       "      <td>male</td>\n",
       "      <td>-1.0</td>\n",
       "      <td>0</td>\n",
       "      <td>0</td>\n",
       "      <td>239855</td>\n",
       "      <td>0.0</td>\n",
       "      <td>not_stated</td>\n",
       "      <td>S</td>\n",
       "    </tr>\n",
       "    <tr>\n",
       "      <th>806</th>\n",
       "      <td>807</td>\n",
       "      <td>0</td>\n",
       "      <td>1</td>\n",
       "      <td>Andrews, Mr. Thomas Jr</td>\n",
       "      <td>male</td>\n",
       "      <td>39.0</td>\n",
       "      <td>0</td>\n",
       "      <td>0</td>\n",
       "      <td>112050</td>\n",
       "      <td>0.0</td>\n",
       "      <td>A36</td>\n",
       "      <td>S</td>\n",
       "    </tr>\n",
       "    <tr>\n",
       "      <th>815</th>\n",
       "      <td>816</td>\n",
       "      <td>0</td>\n",
       "      <td>1</td>\n",
       "      <td>Fry, Mr. Richard</td>\n",
       "      <td>male</td>\n",
       "      <td>-1.0</td>\n",
       "      <td>0</td>\n",
       "      <td>0</td>\n",
       "      <td>112058</td>\n",
       "      <td>0.0</td>\n",
       "      <td>B102</td>\n",
       "      <td>S</td>\n",
       "    </tr>\n",
       "    <tr>\n",
       "      <th>822</th>\n",
       "      <td>823</td>\n",
       "      <td>0</td>\n",
       "      <td>1</td>\n",
       "      <td>Reuchlin, Jonkheer. John George</td>\n",
       "      <td>male</td>\n",
       "      <td>38.0</td>\n",
       "      <td>0</td>\n",
       "      <td>0</td>\n",
       "      <td>19972</td>\n",
       "      <td>0.0</td>\n",
       "      <td>not_stated</td>\n",
       "      <td>S</td>\n",
       "    </tr>\n",
       "  </tbody>\n",
       "</table>\n",
       "</div>"
      ],
      "text/plain": [
       "     passenger_id  survived  p_class                              name   sex  \\\n",
       "179           180         0        3               Leonard, Mr. Lionel  male   \n",
       "263           264         0        1             Harrison, Mr. William  male   \n",
       "271           272         1        3      Tornquist, Mr. William Henry  male   \n",
       "277           278         0        2       Parkes, Mr. Francis \"Frank\"  male   \n",
       "302           303         0        3   Johnson, Mr. William Cahoone Jr  male   \n",
       "413           414         0        2    Cunningham, Mr. Alfred Fleming  male   \n",
       "466           467         0        2             Campbell, Mr. William  male   \n",
       "481           482         0        2  Frost, Mr. Anthony Wood \"Archie\"  male   \n",
       "597           598         0        3               Johnson, Mr. Alfred  male   \n",
       "633           634         0        1     Parr, Mr. William Henry Marsh  male   \n",
       "674           675         0        2        Watson, Mr. Ennis Hastings  male   \n",
       "732           733         0        2              Knight, Mr. Robert J  male   \n",
       "806           807         0        1            Andrews, Mr. Thomas Jr  male   \n",
       "815           816         0        1                  Fry, Mr. Richard  male   \n",
       "822           823         0        1   Reuchlin, Jonkheer. John George  male   \n",
       "\n",
       "      age  sib_sp  parch  ticket  fare       cabin embarked  \n",
       "179  36.0       0      0    LINE   0.0  not_stated        S  \n",
       "263  40.0       0      0  112059   0.0         B94        S  \n",
       "271  25.0       0      0    LINE   0.0  not_stated        S  \n",
       "277  -1.0       0      0  239853   0.0  not_stated        S  \n",
       "302  19.0       0      0    LINE   0.0  not_stated        S  \n",
       "413  -1.0       0      0  239853   0.0  not_stated        S  \n",
       "466  -1.0       0      0  239853   0.0  not_stated        S  \n",
       "481  -1.0       0      0  239854   0.0  not_stated        S  \n",
       "597  49.0       0      0    LINE   0.0  not_stated        S  \n",
       "633  -1.0       0      0  112052   0.0  not_stated        S  \n",
       "674  -1.0       0      0  239856   0.0  not_stated        S  \n",
       "732  -1.0       0      0  239855   0.0  not_stated        S  \n",
       "806  39.0       0      0  112050   0.0         A36        S  \n",
       "815  -1.0       0      0  112058   0.0        B102        S  \n",
       "822  38.0       0      0   19972   0.0  not_stated        S  "
      ]
     },
     "execution_count": 30,
     "metadata": {},
     "output_type": "execute_result"
    }
   ],
   "source": [
    "train_data[train_data['fare'] < 1]"
   ]
  },
  {
   "cell_type": "markdown",
   "id": "36293a15",
   "metadata": {
    "id": "0c3b5af2",
    "papermill": {
     "duration": 0.02024,
     "end_time": "2025-02-20T11:19:38.651304",
     "exception": false,
     "start_time": "2025-02-20T11:19:38.631064",
     "status": "completed"
    },
    "tags": []
   },
   "source": [
    "There are only men mostly without specified age and cabin. They seem to be free riders.\n",
    "\n",
    "Next we will examine people who paid more than 300 pounds."
   ]
  },
  {
   "cell_type": "code",
   "execution_count": 31,
   "id": "c0fd5e54",
   "metadata": {
    "execution": {
     "iopub.execute_input": "2025-02-20T11:19:38.693601Z",
     "iopub.status.busy": "2025-02-20T11:19:38.693211Z",
     "iopub.status.idle": "2025-02-20T11:19:38.707939Z",
     "shell.execute_reply": "2025-02-20T11:19:38.706752Z"
    },
    "id": "ee2dff35",
    "outputId": "fbe6366f-4b17-4091-f5bc-90bf1d6b99ad",
    "papermill": {
     "duration": 0.03794,
     "end_time": "2025-02-20T11:19:38.709821",
     "exception": false,
     "start_time": "2025-02-20T11:19:38.671881",
     "status": "completed"
    },
    "tags": []
   },
   "outputs": [
    {
     "data": {
      "text/html": [
       "<div>\n",
       "<style scoped>\n",
       "    .dataframe tbody tr th:only-of-type {\n",
       "        vertical-align: middle;\n",
       "    }\n",
       "\n",
       "    .dataframe tbody tr th {\n",
       "        vertical-align: top;\n",
       "    }\n",
       "\n",
       "    .dataframe thead th {\n",
       "        text-align: right;\n",
       "    }\n",
       "</style>\n",
       "<table border=\"1\" class=\"dataframe\">\n",
       "  <thead>\n",
       "    <tr style=\"text-align: right;\">\n",
       "      <th></th>\n",
       "      <th>passenger_id</th>\n",
       "      <th>survived</th>\n",
       "      <th>p_class</th>\n",
       "      <th>name</th>\n",
       "      <th>sex</th>\n",
       "      <th>age</th>\n",
       "      <th>sib_sp</th>\n",
       "      <th>parch</th>\n",
       "      <th>ticket</th>\n",
       "      <th>fare</th>\n",
       "      <th>cabin</th>\n",
       "      <th>embarked</th>\n",
       "    </tr>\n",
       "  </thead>\n",
       "  <tbody>\n",
       "    <tr>\n",
       "      <th>258</th>\n",
       "      <td>259</td>\n",
       "      <td>1</td>\n",
       "      <td>1</td>\n",
       "      <td>Ward, Miss. Anna</td>\n",
       "      <td>female</td>\n",
       "      <td>35.0</td>\n",
       "      <td>0</td>\n",
       "      <td>0</td>\n",
       "      <td>PC 17755</td>\n",
       "      <td>512.3292</td>\n",
       "      <td>not_stated</td>\n",
       "      <td>C</td>\n",
       "    </tr>\n",
       "    <tr>\n",
       "      <th>679</th>\n",
       "      <td>680</td>\n",
       "      <td>1</td>\n",
       "      <td>1</td>\n",
       "      <td>Cardeza, Mr. Thomas Drake Martinez</td>\n",
       "      <td>male</td>\n",
       "      <td>36.0</td>\n",
       "      <td>0</td>\n",
       "      <td>1</td>\n",
       "      <td>PC 17755</td>\n",
       "      <td>512.3292</td>\n",
       "      <td>B51 B53 B55</td>\n",
       "      <td>C</td>\n",
       "    </tr>\n",
       "    <tr>\n",
       "      <th>737</th>\n",
       "      <td>738</td>\n",
       "      <td>1</td>\n",
       "      <td>1</td>\n",
       "      <td>Lesurer, Mr. Gustave J</td>\n",
       "      <td>male</td>\n",
       "      <td>35.0</td>\n",
       "      <td>0</td>\n",
       "      <td>0</td>\n",
       "      <td>PC 17755</td>\n",
       "      <td>512.3292</td>\n",
       "      <td>B101</td>\n",
       "      <td>C</td>\n",
       "    </tr>\n",
       "  </tbody>\n",
       "</table>\n",
       "</div>"
      ],
      "text/plain": [
       "     passenger_id  survived  p_class                                name  \\\n",
       "258           259         1        1                    Ward, Miss. Anna   \n",
       "679           680         1        1  Cardeza, Mr. Thomas Drake Martinez   \n",
       "737           738         1        1              Lesurer, Mr. Gustave J   \n",
       "\n",
       "        sex   age  sib_sp  parch    ticket      fare        cabin embarked  \n",
       "258  female  35.0       0      0  PC 17755  512.3292   not_stated        C  \n",
       "679    male  36.0       0      1  PC 17755  512.3292  B51 B53 B55        C  \n",
       "737    male  35.0       0      0  PC 17755  512.3292         B101        C  "
      ]
     },
     "execution_count": 31,
     "metadata": {},
     "output_type": "execute_result"
    }
   ],
   "source": [
    "train_data[train_data['fare'] > 300]"
   ]
  },
  {
   "cell_type": "markdown",
   "id": "d170b836",
   "metadata": {
    "id": "d76529c0",
    "papermill": {
     "duration": 0.020245,
     "end_time": "2025-02-20T11:19:38.750981",
     "exception": false,
     "start_time": "2025-02-20T11:19:38.730736",
     "status": "completed"
    },
    "tags": []
   },
   "source": [
    "These passengers bought the most expensive tickets and travelled with the 1st class."
   ]
  },
  {
   "cell_type": "markdown",
   "id": "6ff1f4b2",
   "metadata": {
    "id": "f246615f",
    "papermill": {
     "duration": 0.021479,
     "end_time": "2025-02-20T11:19:38.793946",
     "exception": false,
     "start_time": "2025-02-20T11:19:38.772467",
     "status": "completed"
    },
    "tags": []
   },
   "source": [
    "#### Fare\n",
    "- The distribution is not normal\n",
    "- Most of people paid 7-30 pounds (75%)\n",
    "- There are outliers: some people paid 0 (free riders) and 512 pounds (most expensive tickets)"
   ]
  },
  {
   "cell_type": "code",
   "execution_count": 32,
   "id": "ef976e84",
   "metadata": {
    "execution": {
     "iopub.execute_input": "2025-02-20T11:19:38.836709Z",
     "iopub.status.busy": "2025-02-20T11:19:38.836356Z",
     "iopub.status.idle": "2025-02-20T11:19:38.954786Z",
     "shell.execute_reply": "2025-02-20T11:19:38.953555Z"
    },
    "id": "28124508",
    "outputId": "d5fa1abf-7bd0-4933-f5f5-58e8a1e2d007",
    "papermill": {
     "duration": 0.142428,
     "end_time": "2025-02-20T11:19:38.956878",
     "exception": false,
     "start_time": "2025-02-20T11:19:38.814450",
     "status": "completed"
    },
    "tags": []
   },
   "outputs": [
    {
     "data": {
      "image/png": "[encoded data removed]",
      "text/plain": [
       "<Figure size 640x480 with 1 Axes>"
      ]
     },
     "metadata": {},
     "output_type": "display_data"
    }
   ],
   "source": [
    "display_pie_chart('p_class', 'Ticket class')"
   ]
  },
  {
   "cell_type": "markdown",
   "id": "9d311da2",
   "metadata": {
    "id": "8a8ac3b7",
    "papermill": {
     "duration": 0.02102,
     "end_time": "2025-02-20T11:19:38.999640",
     "exception": false,
     "start_time": "2025-02-20T11:19:38.978620",
     "status": "completed"
    },
    "tags": []
   },
   "source": [
    "#### Ticket class\n",
    "- Most of people belong to 3rd class (55%)\n",
    "- 1st and 2nd class tickets are approximately equal (24% vs 21%)"
   ]
  },
  {
   "cell_type": "code",
   "execution_count": 33,
   "id": "2c1ac6cf",
   "metadata": {
    "execution": {
     "iopub.execute_input": "2025-02-20T11:19:39.043534Z",
     "iopub.status.busy": "2025-02-20T11:19:39.043085Z",
     "iopub.status.idle": "2025-02-20T11:19:39.146331Z",
     "shell.execute_reply": "2025-02-20T11:19:39.144703Z"
    },
    "id": "7918475e",
    "outputId": "7ce93d9b-5c09-40d7-c19e-b7b1b09b1baa",
    "papermill": {
     "duration": 0.127355,
     "end_time": "2025-02-20T11:19:39.148500",
     "exception": false,
     "start_time": "2025-02-20T11:19:39.021145",
     "status": "completed"
    },
    "tags": []
   },
   "outputs": [
    {
     "data": {
      "image/png": "[encoded data removed]",
      "text/plain": [
       "<Figure size 640x480 with 1 Axes>"
      ]
     },
     "metadata": {},
     "output_type": "display_data"
    }
   ],
   "source": [
    "display_pie_chart('sex', 'Sex')"
   ]
  },
  {
   "cell_type": "markdown",
   "id": "7dc8e807",
   "metadata": {
    "id": "82415b83",
    "papermill": {
     "duration": 0.021612,
     "end_time": "2025-02-20T11:19:39.191987",
     "exception": false,
     "start_time": "2025-02-20T11:19:39.170375",
     "status": "completed"
    },
    "tags": []
   },
   "source": [
    "#### Sex\n",
    "- 35% passengers are women and 65% are men"
   ]
  },
  {
   "cell_type": "code",
   "execution_count": 34,
   "id": "6f0d63c6",
   "metadata": {
    "execution": {
     "iopub.execute_input": "2025-02-20T11:19:39.237423Z",
     "iopub.status.busy": "2025-02-20T11:19:39.236985Z",
     "iopub.status.idle": "2025-02-20T11:19:39.344811Z",
     "shell.execute_reply": "2025-02-20T11:19:39.343683Z"
    },
    "id": "4ecc9fb1",
    "outputId": "940bb632-12c0-4089-85ea-d0b3b5cbd078",
    "papermill": {
     "duration": 0.133152,
     "end_time": "2025-02-20T11:19:39.347068",
     "exception": false,
     "start_time": "2025-02-20T11:19:39.213916",
     "status": "completed"
    },
    "tags": []
   },
   "outputs": [
    {
     "data": {
      "image/png": "[encoded data removed]",
      "text/plain": [
       "<Figure size 640x480 with 1 Axes>"
      ]
     },
     "metadata": {},
     "output_type": "display_data"
    }
   ],
   "source": [
    "display_pie_chart('embarked', 'Port of Embarkation')"
   ]
  },
  {
   "cell_type": "markdown",
   "id": "db12f948",
   "metadata": {
    "id": "d8085547",
    "papermill": {
     "duration": 0.022454,
     "end_time": "2025-02-20T11:19:39.395383",
     "exception": false,
     "start_time": "2025-02-20T11:19:39.372929",
     "status": "completed"
    },
    "tags": []
   },
   "source": [
    "#### Port of embarkement\n",
    "- Most of people embarked at Southampton (73%), 19% at Cherbourg and 9% at Queenstown"
   ]
  },
  {
   "cell_type": "markdown",
   "id": "a553cb03",
   "metadata": {
    "id": "f4afc3a0",
    "papermill": {
     "duration": 0.022187,
     "end_time": "2025-02-20T11:19:39.440079",
     "exception": false,
     "start_time": "2025-02-20T11:19:39.417892",
     "status": "completed"
    },
    "tags": []
   },
   "source": [
    "### Target feature\n",
    "\n",
    "1. We will analyze the target feature distribution and\n",
    "2. Then we will compare the input features' distributions of passangers who **survived** and of passengers who **did not survive**"
   ]
  },
  {
   "cell_type": "code",
   "execution_count": 35,
   "id": "4e9163f5",
   "metadata": {
    "execution": {
     "iopub.execute_input": "2025-02-20T11:19:39.487850Z",
     "iopub.status.busy": "2025-02-20T11:19:39.487466Z",
     "iopub.status.idle": "2025-02-20T11:19:39.607869Z",
     "shell.execute_reply": "2025-02-20T11:19:39.606493Z"
    },
    "id": "4fbb85b4",
    "outputId": "c095ed29-47aa-4e4b-d430-6bb53c2bb210",
    "papermill": {
     "duration": 0.145483,
     "end_time": "2025-02-20T11:19:39.609951",
     "exception": false,
     "start_time": "2025-02-20T11:19:39.464468",
     "status": "completed"
    },
    "tags": []
   },
   "outputs": [
    {
     "data": {
      "image/png": "[encoded data removed]",
      "text/plain": [
       "<Figure size 640x480 with 1 Axes>"
      ]
     },
     "metadata": {},
     "output_type": "display_data"
    }
   ],
   "source": [
    "display_pie_chart('survived', 'Survived (target)')"
   ]
  },
  {
   "cell_type": "markdown",
   "id": "49152d3c",
   "metadata": {
    "id": "e211bbb9",
    "papermill": {
     "duration": 0.022736,
     "end_time": "2025-02-20T11:19:39.656755",
     "exception": false,
     "start_time": "2025-02-20T11:19:39.634019",
     "status": "completed"
    },
    "tags": []
   },
   "source": [
    "#### Survival distribution\n",
    "- There is a weak class imbalance: 62% did not survive and 38% survived"
   ]
  },
  {
   "cell_type": "markdown",
   "id": "89b4cdd4",
   "metadata": {
    "id": "2a81f837",
    "papermill": {
     "duration": 0.023143,
     "end_time": "2025-02-20T11:19:39.703304",
     "exception": false,
     "start_time": "2025-02-20T11:19:39.680161",
     "status": "completed"
    },
    "tags": []
   },
   "source": [
    "#### Comparement"
   ]
  },
  {
   "cell_type": "code",
   "execution_count": 36,
   "id": "fdf46981",
   "metadata": {
    "execution": {
     "iopub.execute_input": "2025-02-20T11:19:39.751411Z",
     "iopub.status.busy": "2025-02-20T11:19:39.751009Z",
     "iopub.status.idle": "2025-02-20T11:19:39.759708Z",
     "shell.execute_reply": "2025-02-20T11:19:39.758691Z"
    },
    "id": "97c20dfe",
    "papermill": {
     "duration": 0.034202,
     "end_time": "2025-02-20T11:19:39.761634",
     "exception": false,
     "start_time": "2025-02-20T11:19:39.727432",
     "status": "completed"
    },
    "tags": []
   },
   "outputs": [],
   "source": [
    "# Data to compare\n",
    "survived_data = train_data[train_data['survived'] == 1].drop('survived', axis=1)\n",
    "not_survived_data = train_data[train_data['survived'] == 0].drop('survived', axis=1)"
   ]
  },
  {
   "cell_type": "code",
   "execution_count": 37,
   "id": "7cd89217",
   "metadata": {
    "execution": {
     "iopub.execute_input": "2025-02-20T11:19:39.809224Z",
     "iopub.status.busy": "2025-02-20T11:19:39.808760Z",
     "iopub.status.idle": "2025-02-20T11:19:39.824714Z",
     "shell.execute_reply": "2025-02-20T11:19:39.823763Z"
    },
    "id": "7e224941",
    "outputId": "433f7d97-b8e0-4e59-a7bc-8facd10da8b7",
    "papermill": {
     "duration": 0.042405,
     "end_time": "2025-02-20T11:19:39.826725",
     "exception": false,
     "start_time": "2025-02-20T11:19:39.784320",
     "status": "completed"
    },
    "tags": []
   },
   "outputs": [
    {
     "data": {
      "text/html": [
       "<div>\n",
       "<style scoped>\n",
       "    .dataframe tbody tr th:only-of-type {\n",
       "        vertical-align: middle;\n",
       "    }\n",
       "\n",
       "    .dataframe tbody tr th {\n",
       "        vertical-align: top;\n",
       "    }\n",
       "\n",
       "    .dataframe thead th {\n",
       "        text-align: right;\n",
       "    }\n",
       "</style>\n",
       "<table border=\"1\" class=\"dataframe\">\n",
       "  <thead>\n",
       "    <tr style=\"text-align: right;\">\n",
       "      <th></th>\n",
       "      <th>passenger_id</th>\n",
       "      <th>p_class</th>\n",
       "      <th>name</th>\n",
       "      <th>sex</th>\n",
       "      <th>age</th>\n",
       "      <th>sib_sp</th>\n",
       "      <th>parch</th>\n",
       "      <th>ticket</th>\n",
       "      <th>fare</th>\n",
       "      <th>cabin</th>\n",
       "      <th>embarked</th>\n",
       "    </tr>\n",
       "  </thead>\n",
       "  <tbody>\n",
       "    <tr>\n",
       "      <th>1</th>\n",
       "      <td>2</td>\n",
       "      <td>1</td>\n",
       "      <td>Cumings, Mrs. John Bradley (Florence Briggs Th...</td>\n",
       "      <td>female</td>\n",
       "      <td>38.0</td>\n",
       "      <td>1</td>\n",
       "      <td>0</td>\n",
       "      <td>PC 17599</td>\n",
       "      <td>71.2833</td>\n",
       "      <td>C85</td>\n",
       "      <td>C</td>\n",
       "    </tr>\n",
       "    <tr>\n",
       "      <th>2</th>\n",
       "      <td>3</td>\n",
       "      <td>3</td>\n",
       "      <td>Heikkinen, Miss. Laina</td>\n",
       "      <td>female</td>\n",
       "      <td>26.0</td>\n",
       "      <td>0</td>\n",
       "      <td>0</td>\n",
       "      <td>STON/O2. 3101282</td>\n",
       "      <td>7.9250</td>\n",
       "      <td>not_stated</td>\n",
       "      <td>S</td>\n",
       "    </tr>\n",
       "    <tr>\n",
       "      <th>3</th>\n",
       "      <td>4</td>\n",
       "      <td>1</td>\n",
       "      <td>Futrelle, Mrs. Jacques Heath (Lily May Peel)</td>\n",
       "      <td>female</td>\n",
       "      <td>35.0</td>\n",
       "      <td>1</td>\n",
       "      <td>0</td>\n",
       "      <td>113803</td>\n",
       "      <td>53.1000</td>\n",
       "      <td>C123</td>\n",
       "      <td>S</td>\n",
       "    </tr>\n",
       "    <tr>\n",
       "      <th>8</th>\n",
       "      <td>9</td>\n",
       "      <td>3</td>\n",
       "      <td>Johnson, Mrs. Oscar W (Elisabeth Vilhelmina Berg)</td>\n",
       "      <td>female</td>\n",
       "      <td>27.0</td>\n",
       "      <td>0</td>\n",
       "      <td>2</td>\n",
       "      <td>347742</td>\n",
       "      <td>11.1333</td>\n",
       "      <td>not_stated</td>\n",
       "      <td>S</td>\n",
       "    </tr>\n",
       "    <tr>\n",
       "      <th>9</th>\n",
       "      <td>10</td>\n",
       "      <td>2</td>\n",
       "      <td>Nasser, Mrs. Nicholas (Adele Achem)</td>\n",
       "      <td>female</td>\n",
       "      <td>14.0</td>\n",
       "      <td>1</td>\n",
       "      <td>0</td>\n",
       "      <td>237736</td>\n",
       "      <td>30.0708</td>\n",
       "      <td>not_stated</td>\n",
       "      <td>C</td>\n",
       "    </tr>\n",
       "    <tr>\n",
       "      <th>...</th>\n",
       "      <td>...</td>\n",
       "      <td>...</td>\n",
       "      <td>...</td>\n",
       "      <td>...</td>\n",
       "      <td>...</td>\n",
       "      <td>...</td>\n",
       "      <td>...</td>\n",
       "      <td>...</td>\n",
       "      <td>...</td>\n",
       "      <td>...</td>\n",
       "      <td>...</td>\n",
       "    </tr>\n",
       "    <tr>\n",
       "      <th>875</th>\n",
       "      <td>876</td>\n",
       "      <td>3</td>\n",
       "      <td>Najib, Miss. Adele Kiamie \"Jane\"</td>\n",
       "      <td>female</td>\n",
       "      <td>15.0</td>\n",
       "      <td>0</td>\n",
       "      <td>0</td>\n",
       "      <td>2667</td>\n",
       "      <td>7.2250</td>\n",
       "      <td>not_stated</td>\n",
       "      <td>C</td>\n",
       "    </tr>\n",
       "    <tr>\n",
       "      <th>879</th>\n",
       "      <td>880</td>\n",
       "      <td>1</td>\n",
       "      <td>Potter, Mrs. Thomas Jr (Lily Alexenia Wilson)</td>\n",
       "      <td>female</td>\n",
       "      <td>56.0</td>\n",
       "      <td>0</td>\n",
       "      <td>1</td>\n",
       "      <td>11767</td>\n",
       "      <td>83.1583</td>\n",
       "      <td>C50</td>\n",
       "      <td>C</td>\n",
       "    </tr>\n",
       "    <tr>\n",
       "      <th>880</th>\n",
       "      <td>881</td>\n",
       "      <td>2</td>\n",
       "      <td>Shelley, Mrs. William (Imanita Parrish Hall)</td>\n",
       "      <td>female</td>\n",
       "      <td>25.0</td>\n",
       "      <td>0</td>\n",
       "      <td>1</td>\n",
       "      <td>230433</td>\n",
       "      <td>26.0000</td>\n",
       "      <td>not_stated</td>\n",
       "      <td>S</td>\n",
       "    </tr>\n",
       "    <tr>\n",
       "      <th>887</th>\n",
       "      <td>888</td>\n",
       "      <td>1</td>\n",
       "      <td>Graham, Miss. Margaret Edith</td>\n",
       "      <td>female</td>\n",
       "      <td>19.0</td>\n",
       "      <td>0</td>\n",
       "      <td>0</td>\n",
       "      <td>112053</td>\n",
       "      <td>30.0000</td>\n",
       "      <td>B42</td>\n",
       "      <td>S</td>\n",
       "    </tr>\n",
       "    <tr>\n",
       "      <th>889</th>\n",
       "      <td>890</td>\n",
       "      <td>1</td>\n",
       "      <td>Behr, Mr. Karl Howell</td>\n",
       "      <td>male</td>\n",
       "      <td>26.0</td>\n",
       "      <td>0</td>\n",
       "      <td>0</td>\n",
       "      <td>111369</td>\n",
       "      <td>30.0000</td>\n",
       "      <td>C148</td>\n",
       "      <td>C</td>\n",
       "    </tr>\n",
       "  </tbody>\n",
       "</table>\n",
       "<p>342 rows × 11 columns</p>\n",
       "</div>"
      ],
      "text/plain": [
       "     passenger_id  p_class                                               name  \\\n",
       "1               2        1  Cumings, Mrs. John Bradley (Florence Briggs Th...   \n",
       "2               3        3                             Heikkinen, Miss. Laina   \n",
       "3               4        1       Futrelle, Mrs. Jacques Heath (Lily May Peel)   \n",
       "8               9        3  Johnson, Mrs. Oscar W (Elisabeth Vilhelmina Berg)   \n",
       "9              10        2                Nasser, Mrs. Nicholas (Adele Achem)   \n",
       "..            ...      ...                                                ...   \n",
       "875           876        3                   Najib, Miss. Adele Kiamie \"Jane\"   \n",
       "879           880        1      Potter, Mrs. Thomas Jr (Lily Alexenia Wilson)   \n",
       "880           881        2       Shelley, Mrs. William (Imanita Parrish Hall)   \n",
       "887           888        1                       Graham, Miss. Margaret Edith   \n",
       "889           890        1                              Behr, Mr. Karl Howell   \n",
       "\n",
       "        sex   age  sib_sp  parch            ticket     fare       cabin  \\\n",
       "1    female  38.0       1      0          PC 17599  71.2833         C85   \n",
       "2    female  26.0       0      0  STON/O2. 3101282   7.9250  not_stated   \n",
       "3    female  35.0       1      0            113803  53.1000        C123   \n",
       "8    female  27.0       0      2            347742  11.1333  not_stated   \n",
       "9    female  14.0       1      0            237736  30.0708  not_stated   \n",
       "..      ...   ...     ...    ...               ...      ...         ...   \n",
       "875  female  15.0       0      0              2667   7.2250  not_stated   \n",
       "879  female  56.0       0      1             11767  83.1583         C50   \n",
       "880  female  25.0       0      1            230433  26.0000  not_stated   \n",
       "887  female  19.0       0      0            112053  30.0000         B42   \n",
       "889    male  26.0       0      0            111369  30.0000        C148   \n",
       "\n",
       "    embarked  \n",
       "1          C  \n",
       "2          S  \n",
       "3          S  \n",
       "8          S  \n",
       "9          C  \n",
       "..       ...  \n",
       "875        C  \n",
       "879        C  \n",
       "880        S  \n",
       "887        S  \n",
       "889        C  \n",
       "\n",
       "[342 rows x 11 columns]"
      ]
     },
     "execution_count": 37,
     "metadata": {},
     "output_type": "execute_result"
    }
   ],
   "source": [
    "survived_data"
   ]
  },
  {
   "cell_type": "code",
   "execution_count": 38,
   "id": "bd3e3d89",
   "metadata": {
    "execution": {
     "iopub.execute_input": "2025-02-20T11:19:39.875285Z",
     "iopub.status.busy": "2025-02-20T11:19:39.874894Z",
     "iopub.status.idle": "2025-02-20T11:19:40.813464Z",
     "shell.execute_reply": "2025-02-20T11:19:40.812273Z"
    },
    "id": "f7312e6c",
    "outputId": "e5bf3f06-0da0-4d51-eea1-c1b1175168ac",
    "papermill": {
     "duration": 0.965087,
     "end_time": "2025-02-20T11:19:40.815750",
     "exception": false,
     "start_time": "2025-02-20T11:19:39.850663",
     "status": "completed"
    },
    "tags": []
   },
   "outputs": [
    {
     "data": {
      "image/png": "[encoded data removed]",
      "text/plain": [
       "<Figure size 640x480 with 1 Axes>"
      ]
     },
     "metadata": {},
     "output_type": "display_data"
    },
    {
     "data": {
      "image/png": "[encoded data removed]",
      "text/plain": [
       "<Figure size 640x480 with 1 Axes>"
      ]
     },
     "metadata": {},
     "output_type": "display_data"
    },
    {
     "data": {
      "image/png": "[encoded data removed]",
      "text/plain": [
       "<Figure size 640x480 with 1 Axes>"
      ]
     },
     "metadata": {},
     "output_type": "display_data"
    },
    {
     "data": {
      "image/png": "[encoded data removed]",
      "text/plain": [
       "<Figure size 640x480 with 1 Axes>"
      ]
     },
     "metadata": {},
     "output_type": "display_data"
    },
    {
     "data": {
      "image/png": "[encoded data removed]",
      "text/plain": [
       "<Figure size 640x480 with 1 Axes>"
      ]
     },
     "metadata": {},
     "output_type": "display_data"
    }
   ],
   "source": [
    "for feature in ['p_class', 'sex', 'sib_sp', 'parch', 'embarked']:\n",
    "    display_bar(feature, feature, group_1=survived_data, group_2=not_survived_data)"
   ]
  },
  {
   "cell_type": "markdown",
   "id": "4a8b6054",
   "metadata": {
    "id": "4d67d402",
    "papermill": {
     "duration": 0.024409,
     "end_time": "2025-02-20T11:19:40.865834",
     "exception": false,
     "start_time": "2025-02-20T11:19:40.841425",
     "status": "completed"
    },
    "tags": []
   },
   "source": [
    "##### Insights\n",
    "- Most of people from 3rd class (about 60% of survival) did not survive, but people from 1st and 2nd classes mostly survived (about 55% of survival)\n",
    "- Women were more likely to survive (60% survived), unlike men (40% survived)\n",
    "- People with 0-1 siblings did not survive at all, while about 90% of people who had aboard 2 or more siblings survived, just like with parents/children (0-1 parch 0% survived, 2 or more - 90% survived)\n",
    "- 70% of passengers of Southampton and Queenstown did not survive, while 60% of people who embarked at Cherbourg survived."
   ]
  },
  {
   "cell_type": "code",
   "execution_count": 39,
   "id": "3ca90786",
   "metadata": {
    "execution": {
     "iopub.execute_input": "2025-02-20T11:19:40.918013Z",
     "iopub.status.busy": "2025-02-20T11:19:40.917601Z",
     "iopub.status.idle": "2025-02-20T11:19:41.508242Z",
     "shell.execute_reply": "2025-02-20T11:19:41.506973Z"
    },
    "id": "01278cfa",
    "outputId": "a0883ecd-6691-4c86-cc61-786fb58f394b",
    "papermill": {
     "duration": 0.619148,
     "end_time": "2025-02-20T11:19:41.510228",
     "exception": false,
     "start_time": "2025-02-20T11:19:40.891080",
     "status": "completed"
    },
    "scrolled": true,
    "tags": []
   },
   "outputs": [
    {
     "data": {
      "image/png": "[encoded data removed]",
      "text/plain": [
       "<Figure size 640x480 with 1 Axes>"
      ]
     },
     "metadata": {},
     "output_type": "display_data"
    },
    {
     "name": "stdout",
     "output_type": "stream",
     "text": [
      "count    418.000000\n",
      "mean      35.561214\n",
      "std       55.856789\n",
      "min        0.000000\n",
      "25%        7.895800\n",
      "50%       14.454200\n",
      "75%       31.471875\n",
      "max      512.329200\n",
      "Name: fare, dtype: float64\n"
     ]
    },
    {
     "data": {
      "image/png": "[encoded data removed]",
      "text/plain": [
       "<Figure size 640x480 with 1 Axes>"
      ]
     },
     "metadata": {},
     "output_type": "display_data"
    },
    {
     "name": "stdout",
     "output_type": "stream",
     "text": [
      "count    418.000000\n",
      "mean      23.838517\n",
      "std       17.883723\n",
      "min       -1.000000\n",
      "25%        9.000000\n",
      "50%       24.000000\n",
      "75%       35.750000\n",
      "max       76.000000\n",
      "Name: age, dtype: float64\n"
     ]
    }
   ],
   "source": [
    "for feature in ['fare', 'age']:\n",
    "    display_hist(feature, feature, group_1=survived_data, group_2=not_survived_data)"
   ]
  },
  {
   "cell_type": "markdown",
   "id": "67b9f032",
   "metadata": {
    "id": "0daa3240",
    "papermill": {
     "duration": 0.025604,
     "end_time": "2025-02-20T11:19:41.562419",
     "exception": false,
     "start_time": "2025-02-20T11:19:41.536815",
     "status": "completed"
    },
    "tags": []
   },
   "source": [
    "##### Insights\n",
    "- Passangers with fare > 10 are more likely to survive\n",
    "- Age distributions seem to be simmilar"
   ]
  },
  {
   "cell_type": "markdown",
   "id": "05f88756",
   "metadata": {
    "id": "ef18ffb6",
    "papermill": {
     "duration": 0.027027,
     "end_time": "2025-02-20T11:19:41.616391",
     "exception": false,
     "start_time": "2025-02-20T11:19:41.589364",
     "status": "completed"
    },
    "tags": []
   },
   "source": [
    "### Correlation analysis\n",
    "\n",
    "We will use *phik* correlation matrix to examine if there are dependencies between input features and the target"
   ]
  },
  {
   "cell_type": "code",
   "execution_count": 40,
   "id": "5f40460b",
   "metadata": {
    "execution": {
     "iopub.execute_input": "2025-02-20T11:19:41.670251Z",
     "iopub.status.busy": "2025-02-20T11:19:41.669745Z",
     "iopub.status.idle": "2025-02-20T11:19:51.317464Z",
     "shell.execute_reply": "2025-02-20T11:19:51.316077Z"
    },
    "id": "6c4d4b55",
    "outputId": "a0d8de0d-b5df-440a-ad37-6d1264f9b1d2",
    "papermill": {
     "duration": 9.677391,
     "end_time": "2025-02-20T11:19:51.319715",
     "exception": false,
     "start_time": "2025-02-20T11:19:41.642324",
     "status": "completed"
    },
    "tags": []
   },
   "outputs": [
    {
     "data": {
      "image/png": "[encoded data removed]",
      "text/plain": [
       "<Figure size 1000x600 with 2 Axes>"
      ]
     },
     "metadata": {},
     "output_type": "display_data"
    }
   ],
   "source": [
    "matrix = train_data.drop(['passenger_id', 'name'], axis=1).phik_matrix(\n",
    "    interval_cols=['age', 'fare']).round(2)\n",
    "plt.figure(figsize=(10,6))\n",
    "sns.heatmap(data=matrix, annot=True)\n",
    "plt.title('phik correlation matrix')\n",
    "plt.show()"
   ]
  },
  {
   "cell_type": "markdown",
   "id": "3c431abb",
   "metadata": {
    "id": "f1e96e01",
    "papermill": {
     "duration": 0.028219,
     "end_time": "2025-02-20T11:19:51.376498",
     "exception": false,
     "start_time": "2025-02-20T11:19:51.348279",
     "status": "completed"
    },
    "tags": []
   },
   "source": [
    "##### Insights according to Chaddock scale\n",
    "- Strong correlation to target: sex, ticket number\n",
    "- Weak correlation: cabin\n",
    "- Negligible correlation: p_class, age, sib_sp, parch, fare, embarked\n",
    "- 'ticket' feature is multicollinear with p_class, and sib_sp. As the ticket's number is just a row of numbers and letters and there could not be business logic in it, so we will remove it."
   ]
  },
  {
   "cell_type": "code",
   "execution_count": 41,
   "id": "da0bc7b3",
   "metadata": {
    "execution": {
     "iopub.execute_input": "2025-02-20T11:19:51.433545Z",
     "iopub.status.busy": "2025-02-20T11:19:51.433135Z",
     "iopub.status.idle": "2025-02-20T11:19:51.439037Z",
     "shell.execute_reply": "2025-02-20T11:19:51.437756Z"
    },
    "id": "57097676",
    "papermill": {
     "duration": 0.036827,
     "end_time": "2025-02-20T11:19:51.441134",
     "exception": false,
     "start_time": "2025-02-20T11:19:51.404307",
     "status": "completed"
    },
    "tags": []
   },
   "outputs": [],
   "source": [
    "train_data = train_data.drop('ticket', axis=1)"
   ]
  },
  {
   "cell_type": "markdown",
   "id": "d70862a3",
   "metadata": {
    "id": "65ae7041",
    "papermill": {
     "duration": 0.03148,
     "end_time": "2025-02-20T11:19:51.501069",
     "exception": false,
     "start_time": "2025-02-20T11:19:51.469589",
     "status": "completed"
    },
    "tags": []
   },
   "source": [
    "### Feature engeneering\n",
    "\n",
    "#### Additional boxplots analysis\n",
    "We will examine boxplots: numeric feature distributions by Survival. As fare contains outliers (extremely high prices), we will use np.log function to lower outliers' influence."
   ]
  },
  {
   "cell_type": "code",
   "execution_count": 42,
   "id": "40c5a7f9",
   "metadata": {
    "execution": {
     "iopub.execute_input": "2025-02-20T11:19:51.560128Z",
     "iopub.status.busy": "2025-02-20T11:19:51.559768Z",
     "iopub.status.idle": "2025-02-20T11:19:51.934531Z",
     "shell.execute_reply": "2025-02-20T11:19:51.933295Z"
    },
    "id": "81c3ed96",
    "outputId": "3f24deec-71f9-4f6e-cfba-d67045a5ecda",
    "papermill": {
     "duration": 0.405932,
     "end_time": "2025-02-20T11:19:51.936564",
     "exception": false,
     "start_time": "2025-02-20T11:19:51.530632",
     "status": "completed"
    },
    "scrolled": true,
    "tags": []
   },
   "outputs": [
    {
     "data": {
      "image/png": "[encoded data removed]",
      "text/plain": [
       "<Figure size 640x480 with 1 Axes>"
      ]
     },
     "metadata": {},
     "output_type": "display_data"
    },
    {
     "data": {
      "image/png": "[encoded data removed]",
      "text/plain": [
       "<Figure size 640x480 with 1 Axes>"
      ]
     },
     "metadata": {},
     "output_type": "display_data"
    }
   ],
   "source": [
    "train_data['fare_log'] = train_data['fare'].apply(np.log1p)\n",
    "for numeric_feature in ['age','fare_log']:\n",
    "    sns.boxplot(data=train_data, x='survived', y=numeric_feature, palette='Set2')\n",
    "    plt.xlabel('Survived')\n",
    "    plt.title(f'{numeric_feature} distribution by Survival')\n",
    "    plt.show()"
   ]
  },
  {
   "cell_type": "markdown",
   "id": "7f866600",
   "metadata": {
    "id": "14ad1c86",
    "papermill": {
     "duration": 0.029448,
     "end_time": "2025-02-20T11:19:51.995911",
     "exception": false,
     "start_time": "2025-02-20T11:19:51.966463",
     "status": "completed"
    },
    "tags": []
   },
   "source": [
    "##### Insights\n",
    "- Age distributions are approximately equal, people from 60-70 had less chances to survive (3rd quantile comparement)\n",
    "- Fare distributions are very different"
   ]
  },
  {
   "cell_type": "markdown",
   "id": "b1f69552",
   "metadata": {
    "id": "d83775f7",
    "papermill": {
     "duration": 0.029737,
     "end_time": "2025-02-20T11:19:52.055289",
     "exception": false,
     "start_time": "2025-02-20T11:19:52.025552",
     "status": "completed"
    },
    "tags": []
   },
   "source": [
    "#### Family members\n",
    "\n",
    "As we discovered a correlation between number of parents/children, siblings/spouses and target, we will try to make these features more representative by creating binary categorical features: we will find the number of family members and create a binary feature - family membrers aboard (1 - yes, 0 - no)"
   ]
  },
  {
   "cell_type": "code",
   "execution_count": 43,
   "id": "f9b5b89e",
   "metadata": {
    "execution": {
     "iopub.execute_input": "2025-02-20T11:19:52.117864Z",
     "iopub.status.busy": "2025-02-20T11:19:52.117511Z",
     "iopub.status.idle": "2025-02-20T11:19:52.124703Z",
     "shell.execute_reply": "2025-02-20T11:19:52.123645Z"
    },
    "id": "98771e30",
    "papermill": {
     "duration": 0.041772,
     "end_time": "2025-02-20T11:19:52.126748",
     "exception": false,
     "start_time": "2025-02-20T11:19:52.084976",
     "status": "completed"
    },
    "tags": []
   },
   "outputs": [],
   "source": [
    "def make_binary(feature):\n",
    "    if feature > 0:\n",
    "        return 1\n",
    "    else:\n",
    "        return 0\n",
    "\n",
    "# Finding general number of family members aboard\n",
    "train_data['family'] = train_data['sib_sp'] + train_data['parch']\n",
    "train_data['alone'] = train_data['family'].apply(make_binary)"
   ]
  },
  {
   "cell_type": "markdown",
   "id": "f3b680c5",
   "metadata": {
    "id": "5c1fa586",
    "papermill": {
     "duration": 0.029736,
     "end_time": "2025-02-20T11:19:52.185714",
     "exception": false,
     "start_time": "2025-02-20T11:19:52.155978",
     "status": "completed"
    },
    "tags": []
   },
   "source": [
    "#### Feature selection"
   ]
  },
  {
   "cell_type": "code",
   "execution_count": 44,
   "id": "be2e4a5a",
   "metadata": {
    "execution": {
     "iopub.execute_input": "2025-02-20T11:19:52.262254Z",
     "iopub.status.busy": "2025-02-20T11:19:52.261738Z",
     "iopub.status.idle": "2025-02-20T11:19:55.804708Z",
     "shell.execute_reply": "2025-02-20T11:19:55.803469Z"
    },
    "id": "3d521233",
    "outputId": "40f73642-5696-4bb5-e936-7927050c5fb4",
    "papermill": {
     "duration": 3.586342,
     "end_time": "2025-02-20T11:19:55.807760",
     "exception": false,
     "start_time": "2025-02-20T11:19:52.221418",
     "status": "completed"
    },
    "tags": []
   },
   "outputs": [
    {
     "data": {
      "image/png": "[encoded data removed]",
      "text/plain": [
       "<Figure size 1000x600 with 2 Axes>"
      ]
     },
     "metadata": {},
     "output_type": "display_data"
    }
   ],
   "source": [
    "matrix = train_data.drop(['passenger_id', 'name'], axis=1).phik_matrix(\n",
    "    interval_cols=['age', 'fare']).round(2)\n",
    "plt.figure(figsize=(10,6))\n",
    "sns.heatmap(data=matrix, annot=True)\n",
    "plt.title('Final phik correlation matrix')\n",
    "plt.show()"
   ]
  },
  {
   "cell_type": "markdown",
   "id": "e36b7b6b",
   "metadata": {
    "id": "81b13555",
    "papermill": {
     "duration": 0.032465,
     "end_time": "2025-02-20T11:19:55.873504",
     "exception": false,
     "start_time": "2025-02-20T11:19:55.841039",
     "status": "completed"
    },
    "tags": []
   },
   "source": [
    "##### Insights\n",
    "- fare_log feature demonstrates moderate correlation, while fare demonstrates negligible\n",
    "- alone binary feature demonstrates a weak correlation, while sib_sp and parch demonstrate negligible\n",
    "\n",
    "We will remove unnecessary features, because now we have better features."
   ]
  },
  {
   "cell_type": "code",
   "execution_count": 45,
   "id": "94a08dcc",
   "metadata": {
    "execution": {
     "iopub.execute_input": "2025-02-20T11:19:55.939644Z",
     "iopub.status.busy": "2025-02-20T11:19:55.939289Z",
     "iopub.status.idle": "2025-02-20T11:19:55.948830Z",
     "shell.execute_reply": "2025-02-20T11:19:55.947764Z"
    },
    "id": "540b2720",
    "papermill": {
     "duration": 0.045457,
     "end_time": "2025-02-20T11:19:55.950535",
     "exception": false,
     "start_time": "2025-02-20T11:19:55.905078",
     "status": "completed"
    },
    "tags": []
   },
   "outputs": [],
   "source": [
    "train_data = train_data.drop(\n",
    "    ['fare', 'family', 'sib_sp', 'parch', 'name'], axis=1)\n",
    "\n",
    "# Test dataset changing\n",
    "test_data['fare_log'] = test_data['fare'].apply(np.log1p)\n",
    "test_data['family'] = test_data['sib_sp'] + test_data['parch']\n",
    "test_data['alone'] = test_data['family'].apply(make_binary)\n",
    "test_data = test_data.drop(\n",
    "    ['fare', 'family', 'sib_sp', 'parch', 'name'], axis=1)"
   ]
  },
  {
   "cell_type": "markdown",
   "id": "98752601",
   "metadata": {
    "id": "9ae4887e",
    "papermill": {
     "duration": 0.031252,
     "end_time": "2025-02-20T11:19:56.012948",
     "exception": false,
     "start_time": "2025-02-20T11:19:55.981696",
     "status": "completed"
    },
    "tags": []
   },
   "source": [
    "### Conclusions\n",
    "#### EDA\n",
    "- Ticket class: The most frequent class is 3: there are around 50% of all tickets. 1 and 2 classes are approximately equal in frequency and there are about 25% for each class. Disctributions are equal in train and test datasets\n",
    "- Number of siblings / spouses aboard the Titanic: Most of passengers had 0 siblings and spouses aboard (about 66%). The next category is people who had 1 sibling or a spouse aboard (about 25%). The rest people (<10%) had 2 or more. Disctributions are equal in train and test datasets\n",
    "- Number of parents / children aboard the Titanic: Most of passengers had 1-2 siblings and spouses aboard (about 90%). The rest people (about 10%) had 2 or more. The test dataset includes passengers with 0 parents/children aboard unlike the train dataset, where there are no such people\n",
    "- Age: Distribution is not normal, median 24, mean about 24. There is a peak at -1 and this value is set instead of 'not stated', so this is not an outlier.\n",
    "- Fare: The distribution is not normal. Most of people paid 7-30 pounds (75%). There are outliers: some people paid 0 (free riders) and 512 pounds (most expensive tickets)\n",
    "- Ticket class: Most of people belong to 3rd class (55%). 1st and 2nd class tickets are approximately equal (24% vs 21%)\n",
    "- Sex: 35% passengers are women and 65% are men\n",
    "- Port of embarkement: Most of people embarked at Southampton (73%), 19% at Cherbourg and 9% at Queenstown\n",
    "- **Survival (target)** distribution: There is a weak class imbalance: 62% did not survive and 38% survived\n",
    "- Survived vs Not Survived comparement:\n",
    "    - Most of people from 3rd class (about 60% of survival) did not survive, but people from 1st and 2nd classes mostly survived (about 55% of survival)\n",
    "    - Women were more likely to survive (60% survived), unlike men (40% survived)\n",
    "    - People with 0-1 siblings did not survive at all, while about 90% of people who had aboard 2 or more siblings survived, just like with parents/children (0-1 parch 0% survived, 2 or more - 90% survived)\n",
    "    - 70% of passengers of Southampton and Queenstown did not survive, while 60% of people who embarked at Cherbourg survived.\n",
    "#### Feature engeneering\n",
    "Created features (`'alone'`, `'fare_log'`) that correlate to the target more than the old ones:\n",
    "- fare_log feature demonstrates moderate correlation, while fare demonstrates negligible\n",
    "- alone binary feature demonstrates a weak correlation, while sib_sp and parch demonstrate negligible\n",
    "- removed 'fare', 'sib_sp', 'parch'"
   ]
  },
  {
   "cell_type": "markdown",
   "id": "6a32f200",
   "metadata": {
    "id": "eab04117",
    "papermill": {
     "duration": 0.031405,
     "end_time": "2025-02-20T11:19:56.075749",
     "exception": false,
     "start_time": "2025-02-20T11:19:56.044344",
     "status": "completed"
    },
    "tags": []
   },
   "source": [
    "## Models training"
   ]
  },
  {
   "cell_type": "code",
   "execution_count": 46,
   "id": "31c1bc9b",
   "metadata": {
    "execution": {
     "iopub.execute_input": "2025-02-20T11:19:56.140781Z",
     "iopub.status.busy": "2025-02-20T11:19:56.140405Z",
     "iopub.status.idle": "2025-02-20T11:20:12.267240Z",
     "shell.execute_reply": "2025-02-20T11:20:12.265976Z"
    },
    "id": "17f63e88",
    "outputId": "cdda47c2-9932-4f0b-de5d-79b75a0d2cc4",
    "papermill": {
     "duration": 16.161679,
     "end_time": "2025-02-20T11:20:12.269078",
     "exception": false,
     "start_time": "2025-02-20T11:19:56.107399",
     "status": "completed"
    },
    "tags": []
   },
   "outputs": [
    {
     "name": "stdout",
     "output_type": "stream",
     "text": [
      "ROC-AUC on CV: 0.862869112652132\n",
      "Accuracy on train (best estimator): 0.9315375982042648\n"
     ]
    },
    {
     "data": {
      "text/html": [
       "<style>#sk-container-id-1 {color: black;background-color: white;}#sk-container-id-1 pre{padding: 0;}#sk-container-id-1 div.sk-toggleable {background-color: white;}#sk-container-id-1 label.sk-toggleable__label {cursor: pointer;display: block;width: 100%;margin-bottom: 0;padding: 0.3em;box-sizing: border-box;text-align: center;}#sk-container-id-1 label.sk-toggleable__label-arrow:before {content: \"▸\";float: left;margin-right: 0.25em;color: #696969;}#sk-container-id-1 label.sk-toggleable__label-arrow:hover:before {color: black;}#sk-container-id-1 div.sk-estimator:hover label.sk-toggleable__label-arrow:before {color: black;}#sk-container-id-1 div.sk-toggleable__content {max-height: 0;max-width: 0;overflow: hidden;text-align: left;background-color: #f0f8ff;}#sk-container-id-1 div.sk-toggleable__content pre {margin: 0.2em;color: black;border-radius: 0.25em;background-color: #f0f8ff;}#sk-container-id-1 input.sk-toggleable__control:checked~div.sk-toggleable__content {max-height: 200px;max-width: 100%;overflow: auto;}#sk-container-id-1 input.sk-toggleable__control:checked~label.sk-toggleable__label-arrow:before {content: \"▾\";}#sk-container-id-1 div.sk-estimator input.sk-toggleable__control:checked~label.sk-toggleable__label {background-color: #d4ebff;}#sk-container-id-1 div.sk-label input.sk-toggleable__control:checked~label.sk-toggleable__label {background-color: #d4ebff;}#sk-container-id-1 input.sk-hidden--visually {border: 0;clip: rect(1px 1px 1px 1px);clip: rect(1px, 1px, 1px, 1px);height: 1px;margin: -1px;overflow: hidden;padding: 0;position: absolute;width: 1px;}#sk-container-id-1 div.sk-estimator {font-family: monospace;background-color: #f0f8ff;border: 1px dotted black;border-radius: 0.25em;box-sizing: border-box;margin-bottom: 0.5em;}#sk-container-id-1 div.sk-estimator:hover {background-color: #d4ebff;}#sk-container-id-1 div.sk-parallel-item::after {content: \"\";width: 100%;border-bottom: 1px solid gray;flex-grow: 1;}#sk-container-id-1 div.sk-label:hover label.sk-toggleable__label {background-color: #d4ebff;}#sk-container-id-1 div.sk-serial::before {content: \"\";position: absolute;border-left: 1px solid gray;box-sizing: border-box;top: 0;bottom: 0;left: 50%;z-index: 0;}#sk-container-id-1 div.sk-serial {display: flex;flex-direction: column;align-items: center;background-color: white;padding-right: 0.2em;padding-left: 0.2em;position: relative;}#sk-container-id-1 div.sk-item {position: relative;z-index: 1;}#sk-container-id-1 div.sk-parallel {display: flex;align-items: stretch;justify-content: center;background-color: white;position: relative;}#sk-container-id-1 div.sk-item::before, #sk-container-id-1 div.sk-parallel-item::before {content: \"\";position: absolute;border-left: 1px solid gray;box-sizing: border-box;top: 0;bottom: 0;left: 50%;z-index: -1;}#sk-container-id-1 div.sk-parallel-item {display: flex;flex-direction: column;z-index: 1;position: relative;background-color: white;}#sk-container-id-1 div.sk-parallel-item:first-child::after {align-self: flex-end;width: 50%;}#sk-container-id-1 div.sk-parallel-item:last-child::after {align-self: flex-start;width: 50%;}#sk-container-id-1 div.sk-parallel-item:only-child::after {width: 0;}#sk-container-id-1 div.sk-dashed-wrapped {border: 1px dashed gray;margin: 0 0.4em 0.5em 0.4em;box-sizing: border-box;padding-bottom: 0.4em;background-color: white;}#sk-container-id-1 div.sk-label label {font-family: monospace;font-weight: bold;display: inline-block;line-height: 1.2em;}#sk-container-id-1 div.sk-label-container {text-align: center;}#sk-container-id-1 div.sk-container {/* jupyter's `normalize.less` sets `[hidden] { display: none; }` but bootstrap.min.css set `[hidden] { display: none !important; }` so we also need the `!important` here to be able to override the default hidden behavior on the sphinx rendered scikit-learn.org. See: https://github.com/scikit-learn/scikit-learn/issues/21755 */display: inline-block !important;position: relative;}#sk-container-id-1 div.sk-text-repr-fallback {display: none;}</style><div id=\"sk-container-id-1\" class=\"sk-top-container\"><div class=\"sk-text-repr-fallback\"><pre>Pipeline(steps=[(&#x27;preprocessor&#x27;,\n",
       "                 ColumnTransformer(remainder=&#x27;passthrough&#x27;,\n",
       "                                   transformers=[(&#x27;ord&#x27;,\n",
       "                                                  Pipeline(steps=[(&#x27;ord&#x27;,\n",
       "                                                                   OrdinalEncoder(handle_unknown=&#x27;use_encoded_value&#x27;,\n",
       "                                                                                  unknown_value=-1))]),\n",
       "                                                  [&#x27;sex&#x27;, &#x27;age&#x27;, &#x27;alone&#x27;,\n",
       "                                                   &#x27;p_class&#x27;, &#x27;cabin&#x27;,\n",
       "                                                   &#x27;embarked&#x27;]),\n",
       "                                                 (&#x27;num&#x27;, StandardScaler(),\n",
       "                                                  [&#x27;fare_log&#x27;])])),\n",
       "                (&#x27;models&#x27;,\n",
       "                 &lt;catboost.core.CatBoostClassifier object at 0x7ecb7bddf250&gt;)])</pre><b>In a Jupyter environment, please rerun this cell to show the HTML representation or trust the notebook. <br />On GitHub, the HTML representation is unable to render, please try loading this page with nbviewer.org.</b></div><div class=\"sk-container\" hidden><div class=\"sk-item sk-dashed-wrapped\"><div class=\"sk-label-container\"><div class=\"sk-label sk-toggleable\"><input class=\"sk-toggleable__control sk-hidden--visually\" id=\"sk-estimator-id-1\" type=\"checkbox\" ><label for=\"sk-estimator-id-1\" class=\"sk-toggleable__label sk-toggleable__label-arrow\">Pipeline</label><div class=\"sk-toggleable__content\"><pre>Pipeline(steps=[(&#x27;preprocessor&#x27;,\n",
       "                 ColumnTransformer(remainder=&#x27;passthrough&#x27;,\n",
       "                                   transformers=[(&#x27;ord&#x27;,\n",
       "                                                  Pipeline(steps=[(&#x27;ord&#x27;,\n",
       "                                                                   OrdinalEncoder(handle_unknown=&#x27;use_encoded_value&#x27;,\n",
       "                                                                                  unknown_value=-1))]),\n",
       "                                                  [&#x27;sex&#x27;, &#x27;age&#x27;, &#x27;alone&#x27;,\n",
       "                                                   &#x27;p_class&#x27;, &#x27;cabin&#x27;,\n",
       "                                                   &#x27;embarked&#x27;]),\n",
       "                                                 (&#x27;num&#x27;, StandardScaler(),\n",
       "                                                  [&#x27;fare_log&#x27;])])),\n",
       "                (&#x27;models&#x27;,\n",
       "                 &lt;catboost.core.CatBoostClassifier object at 0x7ecb7bddf250&gt;)])</pre></div></div></div><div class=\"sk-serial\"><div class=\"sk-item sk-dashed-wrapped\"><div class=\"sk-label-container\"><div class=\"sk-label sk-toggleable\"><input class=\"sk-toggleable__control sk-hidden--visually\" id=\"sk-estimator-id-2\" type=\"checkbox\" ><label for=\"sk-estimator-id-2\" class=\"sk-toggleable__label sk-toggleable__label-arrow\">preprocessor: ColumnTransformer</label><div class=\"sk-toggleable__content\"><pre>ColumnTransformer(remainder=&#x27;passthrough&#x27;,\n",
       "                  transformers=[(&#x27;ord&#x27;,\n",
       "                                 Pipeline(steps=[(&#x27;ord&#x27;,\n",
       "                                                  OrdinalEncoder(handle_unknown=&#x27;use_encoded_value&#x27;,\n",
       "                                                                 unknown_value=-1))]),\n",
       "                                 [&#x27;sex&#x27;, &#x27;age&#x27;, &#x27;alone&#x27;, &#x27;p_class&#x27;, &#x27;cabin&#x27;,\n",
       "                                  &#x27;embarked&#x27;]),\n",
       "                                (&#x27;num&#x27;, StandardScaler(), [&#x27;fare_log&#x27;])])</pre></div></div></div><div class=\"sk-parallel\"><div class=\"sk-parallel-item\"><div class=\"sk-item\"><div class=\"sk-label-container\"><div class=\"sk-label sk-toggleable\"><input class=\"sk-toggleable__control sk-hidden--visually\" id=\"sk-estimator-id-3\" type=\"checkbox\" ><label for=\"sk-estimator-id-3\" class=\"sk-toggleable__label sk-toggleable__label-arrow\">ord</label><div class=\"sk-toggleable__content\"><pre>[&#x27;sex&#x27;, &#x27;age&#x27;, &#x27;alone&#x27;, &#x27;p_class&#x27;, &#x27;cabin&#x27;, &#x27;embarked&#x27;]</pre></div></div></div><div class=\"sk-serial\"><div class=\"sk-item\"><div class=\"sk-serial\"><div class=\"sk-item\"><div class=\"sk-estimator sk-toggleable\"><input class=\"sk-toggleable__control sk-hidden--visually\" id=\"sk-estimator-id-4\" type=\"checkbox\" ><label for=\"sk-estimator-id-4\" class=\"sk-toggleable__label sk-toggleable__label-arrow\">OrdinalEncoder</label><div class=\"sk-toggleable__content\"><pre>OrdinalEncoder(handle_unknown=&#x27;use_encoded_value&#x27;, unknown_value=-1)</pre></div></div></div></div></div></div></div></div><div class=\"sk-parallel-item\"><div class=\"sk-item\"><div class=\"sk-label-container\"><div class=\"sk-label sk-toggleable\"><input class=\"sk-toggleable__control sk-hidden--visually\" id=\"sk-estimator-id-5\" type=\"checkbox\" ><label for=\"sk-estimator-id-5\" class=\"sk-toggleable__label sk-toggleable__label-arrow\">num</label><div class=\"sk-toggleable__content\"><pre>[&#x27;fare_log&#x27;]</pre></div></div></div><div class=\"sk-serial\"><div class=\"sk-item\"><div class=\"sk-estimator sk-toggleable\"><input class=\"sk-toggleable__control sk-hidden--visually\" id=\"sk-estimator-id-6\" type=\"checkbox\" ><label for=\"sk-estimator-id-6\" class=\"sk-toggleable__label sk-toggleable__label-arrow\">StandardScaler</label><div class=\"sk-toggleable__content\"><pre>StandardScaler()</pre></div></div></div></div></div></div><div class=\"sk-parallel-item\"><div class=\"sk-item\"><div class=\"sk-label-container\"><div class=\"sk-label sk-toggleable\"><input class=\"sk-toggleable__control sk-hidden--visually\" id=\"sk-estimator-id-7\" type=\"checkbox\" ><label for=\"sk-estimator-id-7\" class=\"sk-toggleable__label sk-toggleable__label-arrow\">remainder</label><div class=\"sk-toggleable__content\"><pre>[]</pre></div></div></div><div class=\"sk-serial\"><div class=\"sk-item\"><div class=\"sk-estimator sk-toggleable\"><input class=\"sk-toggleable__control sk-hidden--visually\" id=\"sk-estimator-id-8\" type=\"checkbox\" ><label for=\"sk-estimator-id-8\" class=\"sk-toggleable__label sk-toggleable__label-arrow\">passthrough</label><div class=\"sk-toggleable__content\"><pre>passthrough</pre></div></div></div></div></div></div></div></div><div class=\"sk-item\"><div class=\"sk-estimator sk-toggleable\"><input class=\"sk-toggleable__control sk-hidden--visually\" id=\"sk-estimator-id-9\" type=\"checkbox\" ><label for=\"sk-estimator-id-9\" class=\"sk-toggleable__label sk-toggleable__label-arrow\">CatBoostClassifier</label><div class=\"sk-toggleable__content\"><pre>&lt;catboost.core.CatBoostClassifier object at 0x7ecb7bddf250&gt;</pre></div></div></div></div></div></div></div>"
      ],
      "text/plain": [
       "Pipeline(steps=[('preprocessor',\n",
       "                 ColumnTransformer(remainder='passthrough',\n",
       "                                   transformers=[('ord',\n",
       "                                                  Pipeline(steps=[('ord',\n",
       "                                                                   OrdinalEncoder(handle_unknown='use_encoded_value',\n",
       "                                                                                  unknown_value=-1))]),\n",
       "                                                  ['sex', 'age', 'alone',\n",
       "                                                   'p_class', 'cabin',\n",
       "                                                   'embarked']),\n",
       "                                                 ('num', StandardScaler(),\n",
       "                                                  ['fare_log'])])),\n",
       "                ('models',\n",
       "                 <catboost.core.CatBoostClassifier object at 0x7ecb7bddf250>)])"
      ]
     },
     "execution_count": 46,
     "metadata": {},
     "output_type": "execute_result"
    }
   ],
   "source": [
    "np.random.seed(42)\n",
    "\n",
    "# Lists with features names\n",
    "ord_list = ['sex', 'age', 'alone', 'p_class', 'cabin', 'embarked']\n",
    "num_list = ['fare_log']\n",
    "\n",
    "# Train sample and target\n",
    "X_train = train_data.drop(['passenger_id', 'survived'], axis=1)\n",
    "y_train = train_data['survived']\n",
    "\n",
    "# Hyperparameters selection\n",
    "params = [\n",
    "    {'models': [DecisionTreeClassifier()],\n",
    "     'models__min_samples_split': range(2, 5),\n",
    "     'models__max_depth': range(2, 6),\n",
    "     'models__min_samples_leaf': range(2, 7)},\n",
    "    {'models': [SVC(probability=True)],\n",
    "     'models__C': [0.1, 1, 3, 5]},\n",
    "    {'models': [KNeighborsClassifier()],\n",
    "     'models__n_neighbors': (5, 20)},\n",
    "    {'models': [CatBoostClassifier(verbose=False)],\n",
    "     'models__max_depth': range(3, 6),\n",
    "     'models__l2_leaf_reg': [5, 10]\n",
    "    }\n",
    "]\n",
    "\n",
    "# Pipelines\n",
    "ord_pipe = Pipeline(\n",
    "    [\n",
    "        ('ord', OrdinalEncoder(categories='auto',\n",
    "                handle_unknown='use_encoded_value', unknown_value=-1))\n",
    "    ]\n",
    ")\n",
    "\n",
    "data_preprocessor = ColumnTransformer(\n",
    "    [\n",
    "        ('ord', ord_pipe, ord_list),\n",
    "        ('num', StandardScaler(), num_list)\n",
    "    ],\n",
    "    remainder='passthrough'\n",
    ")\n",
    "\n",
    "final_pipe = Pipeline(\n",
    "    [\n",
    "        ('preprocessor', data_preprocessor),\n",
    "        ('models', DecisionTreeClassifier())\n",
    "    ]\n",
    ")\n",
    "\n",
    "search = RandomizedSearchCV(\n",
    "    final_pipe,\n",
    "    params,\n",
    "    cv=5,\n",
    "    scoring='roc_auc',\n",
    "    n_jobs=-1,\n",
    "    n_iter=50\n",
    ")\n",
    "\n",
    "search.fit(X_train, y_train)\n",
    "estimator = search.best_estimator_\n",
    "print(f'ROC-AUC on CV: {search.best_score_}')\n",
    "acc_best_est = accuracy_score(y_train, estimator.predict(X_train))\n",
    "print(f'Accuracy on train (best estimator): {acc_best_est}')\n",
    "estimator"
   ]
  },
  {
   "cell_type": "markdown",
   "id": "c58e30aa",
   "metadata": {
    "id": "22d31fd1",
    "papermill": {
     "duration": 0.03113,
     "end_time": "2025-02-20T11:20:12.332217",
     "exception": false,
     "start_time": "2025-02-20T11:20:12.301087",
     "status": "completed"
    },
    "tags": []
   },
   "source": [
    "#### Result\n",
    "- Model works good on CV (accuracy 0.92) and has a great ROC-AUC score (0.86) on train score"
   ]
  },
  {
   "cell_type": "markdown",
   "id": "e798725b",
   "metadata": {
    "id": "c6ecf525",
    "papermill": {
     "duration": 0.032229,
     "end_time": "2025-02-20T11:20:12.396115",
     "exception": false,
     "start_time": "2025-02-20T11:20:12.363886",
     "status": "completed"
    },
    "tags": []
   },
   "source": [
    "### Feature importances analysis"
   ]
  },
  {
   "cell_type": "code",
   "execution_count": 47,
   "id": "c68de290",
   "metadata": {
    "execution": {
     "iopub.execute_input": "2025-02-20T11:20:12.460569Z",
     "iopub.status.busy": "2025-02-20T11:20:12.460142Z",
     "iopub.status.idle": "2025-02-20T11:20:12.652758Z",
     "shell.execute_reply": "2025-02-20T11:20:12.651422Z"
    },
    "id": "5b24bbfc",
    "outputId": "6bf49beb-3d86-4352-90b4-d89d2bbb80bc",
    "papermill": {
     "duration": 0.22709,
     "end_time": "2025-02-20T11:20:12.654785",
     "exception": false,
     "start_time": "2025-02-20T11:20:12.427695",
     "status": "completed"
    },
    "tags": []
   },
   "outputs": [
    {
     "data": {
      "image/png": "[encoded data removed]",
      "text/plain": [
       "<Figure size 640x480 with 1 Axes>"
      ]
     },
     "metadata": {},
     "output_type": "display_data"
    }
   ],
   "source": [
    "# Create a DF with feature importances and feature names\n",
    "report = pd.DataFrame(columns=['feature', 'value'])\n",
    "report['feature'] = estimator.feature_names_in_\n",
    "report['value'] = estimator.steps[1][1].feature_importances_\n",
    "report = report.sort_values(by='value', ascending=True).set_index('feature')\n",
    "\n",
    "report.plot(kind='barh', legend=False)\n",
    "plt.title('Feature importances')\n",
    "plt.xlabel('Importance')\n",
    "plt.ylabel('Feature')\n",
    "plt.show()"
   ]
  },
  {
   "cell_type": "markdown",
   "id": "d3ec7426",
   "metadata": {
    "id": "9c2af3f4",
    "papermill": {
     "duration": 0.032194,
     "end_time": "2025-02-20T11:20:12.719893",
     "exception": false,
     "start_time": "2025-02-20T11:20:12.687699",
     "status": "completed"
    },
    "tags": []
   },
   "source": [
    "##### Insights\n",
    "- p_class is the most valuable feature for survival, the second and the third most valuable features are sex and family aboard."
   ]
  },
  {
   "cell_type": "markdown",
   "id": "1a4f00ff",
   "metadata": {
    "id": "e136fcef",
    "papermill": {
     "duration": 0.031959,
     "end_time": "2025-02-20T11:20:12.784230",
     "exception": false,
     "start_time": "2025-02-20T11:20:12.752271",
     "status": "completed"
    },
    "tags": []
   },
   "source": [
    "### Results submission"
   ]
  },
  {
   "cell_type": "code",
   "execution_count": 48,
   "id": "facc5ff8",
   "metadata": {
    "execution": {
     "iopub.execute_input": "2025-02-20T11:20:12.851348Z",
     "iopub.status.busy": "2025-02-20T11:20:12.850823Z",
     "iopub.status.idle": "2025-02-20T11:20:12.872786Z",
     "shell.execute_reply": "2025-02-20T11:20:12.871626Z"
    },
    "id": "95620b84",
    "papermill": {
     "duration": 0.057924,
     "end_time": "2025-02-20T11:20:12.874829",
     "exception": false,
     "start_time": "2025-02-20T11:20:12.816905",
     "status": "completed"
    },
    "tags": []
   },
   "outputs": [],
   "source": [
    "prediction = estimator.predict(test_data)\n",
    "result = pd.DataFrame(data=test_data['passenger_id'])\n",
    "result['survived'] = prediction\n",
    "result.columns = ['PassengerId', 'Survived']\n",
    "result.to_csv('result.csv', index=False)"
   ]
  },
  {
   "cell_type": "markdown",
   "id": "6f76ca7f",
   "metadata": {
    "id": "7869f60a",
    "papermill": {
     "duration": 0.032725,
     "end_time": "2025-02-20T11:20:12.940324",
     "exception": false,
     "start_time": "2025-02-20T11:20:12.907599",
     "status": "completed"
    },
    "tags": []
   },
   "source": [
    "## Conclusion\n",
    "- Finished pre-processing (missing values, duplicates)\n",
    "- Finished EDA, described descriptions. Completed feature engeneering: added 2 features with higher correlation coefficient than basic features: alone (having family aboard: 1 - yes, 0 - no) and fare_log (fare logarithm to get rid of outliers influence to model quality)\n",
    "- Trained CatBoostClassifier model with ROC-AUC 0.86 on CV and Accuracy 0.79 on test."
   ]
  }
 ],
 "metadata": {
  "colab": {
   "provenance": []
  },
  "kaggle": {
   "accelerator": "none",
   "dataSources": [],
   "dockerImageVersionId": 30886,
   "isGpuEnabled": false,
   "isInternetEnabled": true,
   "language": "python",
   "sourceType": "notebook"
  },
  "kernelspec": {
   "display_name": "Python 3",
   "language": "python",
   "name": "python3"
  },
  "language_info": {
   "codemirror_mode": {
    "name": "ipython",
    "version": 3
   },
   "file_extension": ".py",
   "mimetype": "text/x-python",
   "name": "python",
   "nbconvert_exporter": "python",
   "pygments_lexer": "ipython3",
   "version": "3.10.12"
  },
  "papermill": {
   "default_parameters": {},
   "duration": 61.779329,
   "end_time": "2025-02-20T11:20:13.895189",
   "environment_variables": {},
   "exception": null,
   "input_path": "__notebook__.ipynb",
   "output_path": "__notebook__.ipynb",
   "parameters": {},
   "start_time": "2025-02-20T11:19:12.115860",
   "version": "2.6.0"
  }
 },
 "nbformat": 4,
 "nbformat_minor": 5
}
